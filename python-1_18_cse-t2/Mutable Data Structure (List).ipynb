{
 "cells": [
  {
   "cell_type": "code",
   "execution_count": 11,
   "metadata": {},
   "outputs": [
    {
     "name": "stdout",
     "output_type": "stream",
     "text": [
      "Enter List{1,2,3,4,5}\n",
      "<class 'set'>\n"
     ]
    }
   ],
   "source": [
    "l=eval(input(\"Enter List\"))\n",
    "print(type(l))"
   ]
  },
  {
   "cell_type": "code",
   "execution_count": 12,
   "metadata": {},
   "outputs": [
    {
     "name": "stdout",
     "output_type": "stream",
     "text": [
      "[1, 3, 5, 7, 9, 11, 13]\n"
     ]
    }
   ],
   "source": [
    "l=list(range(1,15,2))\n",
    "print(l)"
   ]
  },
  {
   "cell_type": "code",
   "execution_count": 13,
   "metadata": {},
   "outputs": [
    {
     "name": "stdout",
     "output_type": "stream",
     "text": [
      "[1, 2, 20, 4]\n"
     ]
    }
   ],
   "source": [
    "l=[1,2,3,4]\n",
    "l[2]=20\n",
    "print(l)"
   ]
  },
  {
   "cell_type": "code",
   "execution_count": 1,
   "metadata": {},
   "outputs": [
    {
     "name": "stdout",
     "output_type": "stream",
     "text": [
      "1\n",
      "2\n",
      "3\n",
      "[1, 2, 3, 4, 5, 6, 7]\n"
     ]
    }
   ],
   "source": [
    "l=[1,2,3,4,5,6,7]\n",
    "print(l[0])\n",
    "print(l[1])\n",
    "print(l[2])\n",
    "print(l[:])"
   ]
  },
  {
   "cell_type": "code",
   "execution_count": 4,
   "metadata": {},
   "outputs": [
    {
     "name": "stdout",
     "output_type": "stream",
     "text": [
      "5\n"
     ]
    }
   ],
   "source": [
    "n=[1,2,3,4,5]\n",
    "i=0\n",
    "while i<len(n):\n",
    "    i+=1\n",
    "print(i)\n"
   ]
  },
  {
   "cell_type": "code",
   "execution_count": 12,
   "metadata": {},
   "outputs": [
    {
     "name": "stdout",
     "output_type": "stream",
     "text": [
      "Length is  4\n"
     ]
    }
   ],
   "source": [
    "#important functions of list\n",
    "#1:-len()\n",
    "n=[1,2,3,4]\n",
    "print(\"Length is \",len(n))"
   ]
  },
  {
   "cell_type": "code",
   "execution_count": 10,
   "metadata": {},
   "outputs": [
    {
     "name": "stdout",
     "output_type": "stream",
     "text": [
      "2\n",
      "3\n",
      "3\n"
     ]
    }
   ],
   "source": [
    "#2:- count()\n",
    "n=[1,2,2,3,3,3,1,2,4,4]\n",
    "print(n.count(1))\n",
    "print(n.count(2))\n",
    "print(n.count(3))\n"
   ]
  },
  {
   "cell_type": "code",
   "execution_count": 11,
   "metadata": {},
   "outputs": [
    {
     "name": "stdout",
     "output_type": "stream",
     "text": [
      "0\n",
      "1\n",
      "3\n",
      "6\n"
     ]
    }
   ],
   "source": [
    "#3:-index()\n",
    "n=[1,2,2,3,3,3,4,4,4]\n",
    "print(n.index(1))\n",
    "print(n.index(2))\n",
    "print(n.index(3))\n",
    "if 4 in n:\n",
    "    print(n.index(4))\n",
    "    \n",
    "    "
   ]
  },
  {
   "cell_type": "code",
   "execution_count": 13,
   "metadata": {},
   "outputs": [
    {
     "name": "stdout",
     "output_type": "stream",
     "text": [
      "['M', 'N', 'A', 'B', 'C']\n"
     ]
    }
   ],
   "source": [
    "#4:-append()\n",
    "l=[\"M\",\"N\"]\n",
    "l.append(\"A\")\n",
    "l.append(\"B\")\n",
    "l.append(\"C\")\n",
    "print(l)"
   ]
  },
  {
   "cell_type": "code",
   "execution_count": 16,
   "metadata": {},
   "outputs": [
    {
     "name": "stdout",
     "output_type": "stream",
     "text": [
      "[1, 28, 2, 3, 4, 5]\n",
      "[1, 28, 2, 30, 3, 4, 5]\n",
      "[1, 28, 2, 30, 3, 4, 5, 100]\n",
      "[1, 28, 2, 30, 3, 4, 5, 32, 100]\n"
     ]
    }
   ],
   "source": [
    "#5:-insert()\n",
    "n=[1,2,3,4,5]\n",
    "n.insert(1,28)\n",
    "print(n)\n",
    "n.insert(3,30)\n",
    "print(n)\n",
    "n.insert(10,100)\n",
    "print(n)\n",
    "n.insert(-1,32)\n",
    "print(n)"
   ]
  },
  {
   "cell_type": "code",
   "execution_count": 18,
   "metadata": {},
   "outputs": [
    {
     "name": "stdout",
     "output_type": "stream",
     "text": [
      "['Apple', 'Mango', 'Lichi', 'Watermelon']\n",
      "['Lichi', 'Watermelon']\n",
      "['Lichi', 'Watermelon', 'Apple', 'Mango', 'Lichi', 'Watermelon']\n"
     ]
    }
   ],
   "source": [
    "#6:-extend()\n",
    "l1=[\"Apple\",\"Mango\"]\n",
    "l2=[\"Lichi\",\"Watermelon\"]\n",
    "l1.extend(l2)\n",
    "print(l1)\n",
    "print(l2)\n",
    "l2.extend(l1)\n",
    "print(l2)"
   ]
  },
  {
   "cell_type": "code",
   "execution_count": 20,
   "metadata": {},
   "outputs": [
    {
     "name": "stdout",
     "output_type": "stream",
     "text": [
      "[2, 1, 3]\n"
     ]
    }
   ],
   "source": [
    "#7:-remove()\n",
    "n=[1,2,1,3]\n",
    "n.remove(1)\n",
    "print(n)\n"
   ]
  },
  {
   "cell_type": "code",
   "execution_count": 24,
   "metadata": {},
   "outputs": [
    {
     "name": "stdout",
     "output_type": "stream",
     "text": [
      "50\n",
      "40\n",
      "30\n",
      "[10, 20]\n"
     ]
    }
   ],
   "source": [
    "#8:-pop()\n",
    "n=[10,20,30,40,50]\n",
    "print(n.pop())\n",
    "print(n.pop())\n",
    "print(n.pop(2))\n",
    "print(n)"
   ]
  },
  {
   "cell_type": "code",
   "execution_count": 25,
   "metadata": {},
   "outputs": [
    {
     "name": "stdout",
     "output_type": "stream",
     "text": [
      "[1, 2, 3, 4, 5]\n",
      "[]\n"
     ]
    }
   ],
   "source": [
    "#9:-clear()\n",
    "n=[1,2,3,4,5]\n",
    "print(n)\n",
    "n.clear()\n",
    "print(n)"
   ]
  },
  {
   "cell_type": "code",
   "execution_count": 27,
   "metadata": {},
   "outputs": [
    {
     "name": "stdout",
     "output_type": "stream",
     "text": [
      "[4, 3, 2, 1]\n"
     ]
    }
   ],
   "source": [
    "#10:-reverse()\n",
    "n=[1,2,3,4]\n",
    "n.reverse()\n",
    "print(n)"
   ]
  },
  {
   "cell_type": "code",
   "execution_count": 32,
   "metadata": {},
   "outputs": [
    {
     "name": "stdout",
     "output_type": "stream",
     "text": [
      "[0, 1, 2, 5, 15]\n",
      "['B', 'D', 'M', 'S']\n",
      "[15, 5, 2, 1, 0]\n"
     ]
    }
   ],
   "source": [
    "#11:-sort()\n",
    "n=[2,5,15,1,0]\n",
    "n.sort()\n",
    "print(n)\n",
    "s=[\"D\",\"B\",\"M\",\"S\"]\n",
    "s.sort()\n",
    "print(s)\n",
    "n.sort(reverse=True)\n",
    "print(n)"
   ]
  },
  {
   "cell_type": "code",
   "execution_count": 34,
   "metadata": {},
   "outputs": [
    {
     "name": "stdout",
     "output_type": "stream",
     "text": [
      "[1, 2, 3, 4, 5, 6]\n",
      "[1, 2, 3, 4]\n",
      "[6, 7, 8, 6, 7, 8, 6, 7, 8]\n"
     ]
    }
   ],
   "source": [
    "#mathematical operators\n",
    "#+ = concatenation\n",
    "#- = repetition\n",
    "a=[1,2,3]\n",
    "b=[4,5,6]\n",
    "print(a+b)\n",
    "print(a+[4])\n",
    "c=[6,7,8]\n",
    "print(c*3)"
   ]
  },
  {
   "cell_type": "code",
   "execution_count": 37,
   "metadata": {},
   "outputs": [
    {
     "name": "stdout",
     "output_type": "stream",
     "text": [
      "True\n",
      "False\n",
      "True\n",
      "False\n",
      "True\n",
      "True\n",
      "False\n"
     ]
    }
   ],
   "source": [
    "#compression operators\n",
    "x=[\"Dog\",\"Cat\",\"Rat\"]\n",
    "y=[\"Dog\",\"Cat\",\"Rat\"]\n",
    "z=[\"DOG\",\"CAT\",\"RAT\"]\n",
    "print(x==y)\n",
    "print(x==z)\n",
    "print(x!=z)\n",
    "print(x<=z)\n",
    "print(x>=z)\n",
    "print(x>z)\n",
    "print(x<z)"
   ]
  },
  {
   "cell_type": "code",
   "execution_count": 40,
   "metadata": {},
   "outputs": [
    {
     "name": "stdout",
     "output_type": "stream",
     "text": [
      "True\n",
      "True\n",
      "True\n",
      "False\n",
      "False\n",
      "True\n"
     ]
    }
   ],
   "source": [
    "x=[50,20,30]\n",
    "y=[40,50,60,100,200]\n",
    "print(y<=x)\n",
    "print(x!=y)\n",
    "print(x>=y)\n",
    "print(x==y)\n",
    "print(x<y)\n",
    "print(x>y)"
   ]
  },
  {
   "cell_type": "code",
   "execution_count": 43,
   "metadata": {},
   "outputs": [
    {
     "name": "stdout",
     "output_type": "stream",
     "text": [
      "True\n",
      "False\n",
      "False\n",
      "True\n"
     ]
    }
   ],
   "source": [
    "#membership operator\n",
    "#1:- in\n",
    "#2:-not in\n",
    "n=[10,20,30,40]\n",
    "print(10 in n)\n",
    "print(50 in n)\n",
    "print(10 not in n)\n",
    "print(50 not in n)"
   ]
  },
  {
   "cell_type": "code",
   "execution_count": 44,
   "metadata": {},
   "outputs": [
    {
     "name": "stdout",
     "output_type": "stream",
     "text": [
      "[10, 20, 30, 40]\n",
      "[10, 20, 30, 40]\n",
      "[10, 77, 30, 40]\n",
      "[10, 77, 30, 40]\n"
     ]
    }
   ],
   "source": [
    "#cloning of list\n",
    "x=[10,20,30,40]\n",
    "y=x\n",
    "print(x)\n",
    "print(y)\n",
    "y[1]=77\n",
    "print(y)\n",
    "print(x)"
   ]
  },
  {
   "cell_type": "code",
   "execution_count": 45,
   "metadata": {},
   "outputs": [
    {
     "name": "stdout",
     "output_type": "stream",
     "text": [
      "[10, 20, 30, 40]\n",
      "[10, 20, 30, 40]\n",
      "[10, 77, 30, 40]\n",
      "[10, 20, 30, 40]\n"
     ]
    }
   ],
   "source": [
    "#using slicing operator\n",
    "x=[10,20,30,40]\n",
    "y=x[:]\n",
    "print(x)\n",
    "print(y)\n",
    "y[1]=77\n",
    "print(y)\n",
    "print(x)"
   ]
  },
  {
   "cell_type": "code",
   "execution_count": 46,
   "metadata": {},
   "outputs": [
    {
     "name": "stdout",
     "output_type": "stream",
     "text": [
      "[10, 20, 30, 40]\n",
      "[10, 20, 30, 40]\n",
      "[10, 77, 30, 40]\n",
      "[10, 20, 30, 40]\n"
     ]
    }
   ],
   "source": [
    "# using copy() functions\n",
    "x=[10,20,30,40]\n",
    "y=x.copy()\n",
    "print(x)\n",
    "print(y)\n",
    "y[1]=77\n",
    "print(y)\n",
    "print(x)"
   ]
  },
  {
   "cell_type": "code",
   "execution_count": 48,
   "metadata": {},
   "outputs": [
    {
     "name": "stdout",
     "output_type": "stream",
     "text": [
      "[10, 20, 30, [50, 60, 70]]\n",
      "[50, 60, 70]\n",
      "60\n"
     ]
    }
   ],
   "source": [
    "#nested list\n",
    "n=[10,20,30,[50,60,70]]\n",
    "print(n)\n",
    "print(n[3])\n",
    "print(n[3][1])"
   ]
  },
  {
   "cell_type": "code",
   "execution_count": 63,
   "metadata": {},
   "outputs": [
    {
     "name": "stdout",
     "output_type": "stream",
     "text": [
      "[10, 20, 30]\n",
      "[40, 50, 60]\n",
      "[70, 80, 90]\n",
      "10 20 30\n",
      "40 50 60\n",
      "70 80 90\n"
     ]
    }
   ],
   "source": [
    "#nested list as matrix\n",
    "n=[[10,20,30],[40,50,60],[70,80,90]]\n",
    "print(n[0])\n",
    "print(n[1])\n",
    "print(n[2])\n",
    "print(n[0][0],n[0][1],n[0][2])\n",
    "print(n[1][0],n[1][1],n[1][2])\n",
    "print(n[2][0],n[2][1],n[2][2])\n",
    "\n"
   ]
  },
  {
   "cell_type": "code",
   "execution_count": 64,
   "metadata": {},
   "outputs": [
    {
     "name": "stdout",
     "output_type": "stream",
     "text": [
      "[10, 20, 30]\n",
      "[40, 50, 60]\n",
      "[70, 80, 90]\n",
      "10 20 30 \n",
      "40 50 60 \n",
      "70 80 90 \n"
     ]
    }
   ],
   "source": [
    "#with loop\n",
    "for i in n:\n",
    "    print(i)\n",
    "for i in n:\n",
    "    for j in i:\n",
    "        print(j,end=\" \")\n",
    "    print()"
   ]
  },
  {
   "cell_type": "code",
   "execution_count": 65,
   "metadata": {},
   "outputs": [
    {
     "name": "stdout",
     "output_type": "stream",
     "text": [
      "[1, 4, 9, 16, 25, 36, 49, 64, 81, 100]\n",
      "[2, 4, 8, 16, 32]\n",
      "[4, 16, 36, 64, 100]\n"
     ]
    }
   ],
   "source": [
    "#list comprehensions\n",
    "#syntax :- l=[expression for item in list if condition]\n",
    "s=[x*x for x in range(1,11)]\n",
    "print(s)\n",
    "v=[2**x for x in range(1,6)]\n",
    "print(v)\n",
    "m=[x for x in s if x%2==0]\n",
    "print(m)"
   ]
  },
  {
   "cell_type": "code",
   "execution_count": 77,
   "metadata": {},
   "outputs": [
    {
     "name": "stdout",
     "output_type": "stream",
     "text": [
      "Enter Number1\n",
      "List [1, 2, 2, 3, 1, 4, 1, 1, 3]\n",
      "New List [2, 2, 3, 4, 3]\n"
     ]
    }
   ],
   "source": [
    "#wap program to remove all occurances of element from given list\n",
    "l=[1,2,2,3,1,4,1,1,3]\n",
    "b=int(input(\"Enter Number\"))\n",
    "l1=[]\n",
    "for i in l:\n",
    "    if i!=b:\n",
    "        l1.append(i)\n",
    "print(\"List\",l)\n",
    "print(\"New List\",l1)\n",
    "    "
   ]
  },
  {
   "cell_type": "code",
   "execution_count": 4,
   "metadata": {},
   "outputs": [
    {
     "name": "stdout",
     "output_type": "stream",
     "text": [
      "Biggest Even Number is: 100 \n",
      "Biggest Odd number is : 99\n"
     ]
    }
   ],
   "source": [
    "#wap to print the largest even and the largest odd number in the list\n",
    "l=[12,13,10,100,90,88,99,35,87]\n",
    "c=0\n",
    "b=0\n",
    "for i in l:\n",
    "    if i%2==0:\n",
    "        if i>c:\n",
    "             c=i\n",
    "    else:\n",
    "        if i>b:\n",
    "            b=i\n",
    "print(\"Biggest Even Number is:\",c,\"\\n\"\"Biggest Odd number is :\",b)"
   ]
  },
  {
   "cell_type": "code",
   "execution_count": 2,
   "metadata": {},
   "outputs": [
    {
     "name": "stdout",
     "output_type": "stream",
     "text": [
      "Enter number2\n",
      "[6, 7, 1, 2, 3, 4, 5]\n"
     ]
    }
   ],
   "source": [
    "#wap to perform circular shift on a list to right\n",
    "l=[1,2,3,4,5,6,7]\n",
    "shift=int(input(\"Enter number\"))\n",
    "r=l[-shift:]+l[:-shift]\n",
    "print(r)"
   ]
  },
  {
   "cell_type": "code",
   "execution_count": 20,
   "metadata": {},
   "outputs": [
    {
     "name": "stdout",
     "output_type": "stream",
     "text": [
      "Original Matrix\n",
      "[1, 2, 3, 4]\n",
      "[5, 6, 7, 8]\n",
      "[9, 10, 11, 12]\n",
      "\n",
      "Transposed Matrix\n",
      "[1, 5, 9]\n",
      "[2, 6, 10]\n",
      "[3, 7, 11]\n",
      "[4, 8, 12]\n"
     ]
    }
   ],
   "source": [
    "#wap to transpoz a matrix represented as list of list\n",
    "n=[[1,2,3,4],[5,6,7,8],[9,10,11,12]]\n",
    "print(\"Original Matrix\")\n",
    "for i in n:\n",
    "    print(i)\n",
    "print()\n",
    "print(\"Transposed Matrix\")\n",
    "for i in range(len(n[0])):\n",
    "        m=[row[i] for row in n]\n",
    "        print(m)\n"
   ]
  },
  {
   "cell_type": "code",
   "execution_count": 35,
   "metadata": {},
   "outputs": [
    {
     "name": "stdout",
     "output_type": "stream",
     "text": [
      "[2, 4, 5]\n"
     ]
    }
   ],
   "source": [
    "#wap to print elements with frequency greater then a given value\n",
    "l=[1,2,2,2,2,4,4,4,4,5,5,5,5]\n",
    "l1=[]\n",
    "k=2\n",
    "for i in l:\n",
    "    if l.count(i)>k and i not in l1:\n",
    "        l1.append(i)\n",
    "print(l1)"
   ]
  },
  {
   "cell_type": "code",
   "execution_count": 49,
   "metadata": {},
   "outputs": [
    {
     "name": "stdout",
     "output_type": "stream",
     "text": [
      "[2, 5]\n"
     ]
    }
   ],
   "source": [
    "#wap to find index at which element of list doesnt match\n",
    "a=[1,2,3,4,5,6]\n",
    "b=[1,2,8,4,5,7]\n",
    "c=[]\n",
    "if len(a)==len(b):\n",
    "    for i in range(len(a)):\n",
    "        if a[i]!=b[i]:\n",
    "              c.append(i)\n",
    "print(c)"
   ]
  },
  {
   "cell_type": "code",
   "execution_count": 55,
   "metadata": {},
   "outputs": [
    {
     "name": "stdout",
     "output_type": "stream",
     "text": [
      "['1211', 'aba', 'efe']\n"
     ]
    }
   ],
   "source": [
    "#wap to count no of string where the string len is 3 or more and first and last char are same from given list\n",
    "s=[\"abc\",\"efg\",\"1234\",\"1211\",\"aba\",\"efe\"]\n",
    "c=[]\n",
    "for i in s:\n",
    "    if len(i)>=3 and i[0]==i[-1]:\n",
    "        c.append(i)\n",
    "print(c)"
   ]
  },
  {
   "cell_type": "code",
   "execution_count": null,
   "metadata": {},
   "outputs": [],
   "source": []
  }
 ],
 "metadata": {
  "kernelspec": {
   "display_name": "Python 3",
   "language": "python",
   "name": "python3"
  },
  "language_info": {
   "codemirror_mode": {
    "name": "ipython",
    "version": 3
   },
   "file_extension": ".py",
   "mimetype": "text/x-python",
   "name": "python",
   "nbconvert_exporter": "python",
   "pygments_lexer": "ipython3",
   "version": "3.8.5"
  }
 },
 "nbformat": 4,
 "nbformat_minor": 4
}
