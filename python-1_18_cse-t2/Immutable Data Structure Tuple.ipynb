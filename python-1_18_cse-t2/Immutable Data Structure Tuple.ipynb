{
 "cells": [
  {
   "cell_type": "code",
   "execution_count": 1,
   "metadata": {},
   "outputs": [
    {
     "name": "stdout",
     "output_type": "stream",
     "text": [
      "<class 'int'>\n"
     ]
    }
   ],
   "source": [
    "t=(10)\n",
    "print(type(t))"
   ]
  },
  {
   "cell_type": "code",
   "execution_count": 2,
   "metadata": {},
   "outputs": [
    {
     "name": "stdout",
     "output_type": "stream",
     "text": [
      "<class 'tuple'>\n"
     ]
    }
   ],
   "source": [
    "t=(10,)\n",
    "print(type(t))\n"
   ]
  },
  {
   "cell_type": "code",
   "execution_count": 3,
   "metadata": {},
   "outputs": [
    {
     "name": "stdout",
     "output_type": "stream",
     "text": [
      "<class 'tuple'>\n"
     ]
    }
   ],
   "source": [
    "t=()\n",
    "print(type(t))"
   ]
  },
  {
   "cell_type": "code",
   "execution_count": 4,
   "metadata": {},
   "outputs": [
    {
     "name": "stdout",
     "output_type": "stream",
     "text": [
      "(10, 12, 14, 16, 18)\n"
     ]
    }
   ],
   "source": [
    "t=10,20,30,40\n",
    "t1=tuple(range(10,20,2))\n",
    "print(t1)"
   ]
  },
  {
   "cell_type": "code",
   "execution_count": 5,
   "metadata": {},
   "outputs": [
    {
     "name": "stdout",
     "output_type": "stream",
     "text": [
      "10\n",
      "20\n",
      "40\n",
      "40\n",
      "(30, 40, 50)\n",
      "(20, 40, 40)\n"
     ]
    }
   ],
   "source": [
    "t=(10,20,30,40,50,40)\n",
    "print(t[0])\n",
    "print(t[1])\n",
    "print(t[-1])\n",
    "print(t[-3])\n",
    "print(t[2:5])\n",
    "print(t[1::2])"
   ]
  },
  {
   "cell_type": "code",
   "execution_count": 6,
   "metadata": {},
   "outputs": [
    {
     "name": "stdout",
     "output_type": "stream",
     "text": [
      "(40, 50, 40)\n"
     ]
    }
   ],
   "source": [
    "print(t[-1:-4:-1])"
   ]
  },
  {
   "cell_type": "code",
   "execution_count": 7,
   "metadata": {},
   "outputs": [
    {
     "name": "stdout",
     "output_type": "stream",
     "text": [
      "(10, 20, 30, 40, 50, 60, 70, 80)\n",
      "(10, 20, 30, 40, 50, 60, 70, 80, 10, 20, 30, 40, 50, 60, 70, 80, 10, 20, 30, 40, 50, 60, 70, 80)\n"
     ]
    }
   ],
   "source": [
    "t1=(10,20,30,40)\n",
    "t2=(50,60,70,80)\n",
    "t=t1+t2\n",
    "print(t)\n",
    "t3=t*3\n",
    "print(t3)"
   ]
  },
  {
   "cell_type": "code",
   "execution_count": 8,
   "metadata": {},
   "outputs": [
    {
     "name": "stdout",
     "output_type": "stream",
     "text": [
      "(10, 20, 30, [10, 50, 60])\n"
     ]
    }
   ],
   "source": [
    "t=(10,20,30,[40,50,60])\n",
    "t[3][0]=10\n",
    "print(t)"
   ]
  },
  {
   "cell_type": "code",
   "execution_count": 9,
   "metadata": {},
   "outputs": [
    {
     "name": "stdout",
     "output_type": "stream",
     "text": [
      "4\n"
     ]
    }
   ],
   "source": [
    "t=(10,20,30,40)\n",
    "print(len(t))"
   ]
  },
  {
   "cell_type": "code",
   "execution_count": 10,
   "metadata": {},
   "outputs": [
    {
     "name": "stdout",
     "output_type": "stream",
     "text": [
      "0\n",
      "1\n",
      "4\n"
     ]
    }
   ],
   "source": [
    "t=(10,20,10,10,30)\n",
    "print(t.index(10))\n",
    "print(t.index(20))\n",
    "print(t.index(30))"
   ]
  },
  {
   "cell_type": "code",
   "execution_count": 11,
   "metadata": {},
   "outputs": [
    {
     "name": "stdout",
     "output_type": "stream",
     "text": [
      "[40, 30, 30, 20, 10]\n",
      "[10, 20, 30, 30, 40]\n"
     ]
    }
   ],
   "source": [
    "t=(40,10,20,30,30)\n",
    "t1=sorted(t,reverse=True)\n",
    "print(t1)\n",
    "t=(40,10,20,30,30)\n",
    "t1=sorted(t)\n",
    "print(t1)"
   ]
  },
  {
   "cell_type": "code",
   "execution_count": 12,
   "metadata": {},
   "outputs": [
    {
     "name": "stdout",
     "output_type": "stream",
     "text": [
      "20\n",
      "10\n"
     ]
    }
   ],
   "source": [
    "a=\"10\"\n",
    "b=\"20\"\n",
    "c=max(a,b)\n",
    "d=min(a,b)\n",
    "print(c)\n",
    "print(d)"
   ]
  },
  {
   "cell_type": "code",
   "execution_count": 13,
   "metadata": {},
   "outputs": [
    {
     "name": "stdout",
     "output_type": "stream",
     "text": [
      "Arman\n",
      "Aryan\n"
     ]
    }
   ],
   "source": [
    "a=\"Aryan\"\n",
    "b=\"Arman\"\n",
    "c=min(a,b)\n",
    "d=max(a,b)\n",
    "print(c)\n",
    "print(d)\n"
   ]
  },
  {
   "cell_type": "code",
   "execution_count": 14,
   "metadata": {},
   "outputs": [
    {
     "name": "stdout",
     "output_type": "stream",
     "text": [
      "300\n",
      "100\n"
     ]
    }
   ],
   "source": [
    "t=(\"200\",\"300\",\"100\")\n",
    "print(max(t))\n",
    "print(min(t))"
   ]
  },
  {
   "cell_type": "code",
   "execution_count": 15,
   "metadata": {},
   "outputs": [
    {
     "name": "stdout",
     "output_type": "stream",
     "text": [
      "(10, 20, 30, 40)\n"
     ]
    }
   ],
   "source": [
    "a=10\n",
    "b=20\n",
    "c=30\n",
    "d=40\n",
    "t=a,b,c,d\n",
    "print(t)"
   ]
  },
  {
   "cell_type": "code",
   "execution_count": 17,
   "metadata": {},
   "outputs": [
    {
     "name": "stdout",
     "output_type": "stream",
     "text": [
      "10 20 30 40\n"
     ]
    }
   ],
   "source": [
    "t=(10,20,30,40)\n",
    "a,b,c,d=t\n",
    "print(a,b,c,d)"
   ]
  },
  {
   "cell_type": "code",
   "execution_count": 19,
   "metadata": {},
   "outputs": [
    {
     "name": "stdout",
     "output_type": "stream",
     "text": [
      "apple\n",
      "banana\n",
      "mango\n",
      "apple\n",
      "banana\n",
      "mango\n"
     ]
    }
   ],
   "source": [
    "t=(\"apple\",\"banana\",\"mango\")\n",
    "for i in t:\n",
    "    print(i)\n",
    "for i in range(len(t)):\n",
    "    print(t[i])"
   ]
  },
  {
   "cell_type": "code",
   "execution_count": 2,
   "metadata": {},
   "outputs": [
    {
     "name": "stdout",
     "output_type": "stream",
     "text": [
      "apple\n",
      "banana\n",
      "mango\n"
     ]
    }
   ],
   "source": [
    "t=(\"apple\",\"banana\",\"mango\")\n",
    "c=0\n",
    "while c<len(t):\n",
    "    print(t[c])\n",
    "    c+=1"
   ]
  },
  {
   "cell_type": "code",
   "execution_count": 5,
   "metadata": {
    "scrolled": true
   },
   "outputs": [
    {
     "name": "stdout",
     "output_type": "stream",
     "text": [
      "['n', 'o', 'h', 't', 'y', 'p']\n"
     ]
    }
   ],
   "source": [
    "s=\"python\"\n",
    "print(list(reversed(s)))"
   ]
  },
  {
   "cell_type": "code",
   "execution_count": 7,
   "metadata": {},
   "outputs": [
    {
     "name": "stdout",
     "output_type": "stream",
     "text": [
      "('n', 'o', 'h', 't', 'y', 'p')\n"
     ]
    }
   ],
   "source": [
    "s=\"python\"\n",
    "print(tuple(reversed(s)))"
   ]
  },
  {
   "cell_type": "code",
   "execution_count": 8,
   "metadata": {},
   "outputs": [
    {
     "name": "stdout",
     "output_type": "stream",
     "text": [
      "['p', 'y', 't', 'h', 'o', 'n']\n"
     ]
    }
   ],
   "source": [
    "s=('n', 'o', 'h', 't', 'y', 'p')\n",
    "print(list(reversed(s)))"
   ]
  },
  {
   "cell_type": "code",
   "execution_count": 10,
   "metadata": {},
   "outputs": [
    {
     "name": "stdout",
     "output_type": "stream",
     "text": [
      "[8, 7, 6, 5]\n"
     ]
    }
   ],
   "source": [
    "x=range(5,9)\n",
    "print(list(reversed(x)))"
   ]
  },
  {
   "cell_type": "code",
   "execution_count": 11,
   "metadata": {},
   "outputs": [
    {
     "name": "stdout",
     "output_type": "stream",
     "text": [
      "[(0, 'x'), (1, 'y'), (2, 'z')]\n"
     ]
    }
   ],
   "source": [
    "l=\"xyz\"\n",
    "print(list(enumerate(l)))"
   ]
  },
  {
   "cell_type": "code",
   "execution_count": 12,
   "metadata": {},
   "outputs": [
    {
     "name": "stdout",
     "output_type": "stream",
     "text": [
      "[(5, 'sleep'), (6, 'eat')]\n"
     ]
    }
   ],
   "source": [
    "l1=[\"sleep\",\"eat\"]\n",
    "print(list(enumerate(l1,5)))"
   ]
  },
  {
   "cell_type": "code",
   "execution_count": 13,
   "metadata": {},
   "outputs": [
    {
     "name": "stdout",
     "output_type": "stream",
     "text": [
      "(0, 'sleep')\n",
      "(1, 'eat')\n"
     ]
    }
   ],
   "source": [
    "for ele in enumerate(l1):\n",
    "    print(ele)"
   ]
  },
  {
   "cell_type": "code",
   "execution_count": 14,
   "metadata": {},
   "outputs": [
    {
     "name": "stdout",
     "output_type": "stream",
     "text": [
      "10 sleep\n",
      "11 eat\n"
     ]
    }
   ],
   "source": [
    "for count,ele in enumerate(l1,10):\n",
    "    print(count,ele)"
   ]
  },
  {
   "cell_type": "code",
   "execution_count": 16,
   "metadata": {},
   "outputs": [
    {
     "name": "stdout",
     "output_type": "stream",
     "text": [
      "0 -> H\n",
      "1 -> e\n",
      "2 -> l\n",
      "3 -> l\n",
      "4 -> o\n",
      "5 ->  \n",
      "6 -> H\n",
      "7 -> o\n",
      "8 -> w\n",
      "9 ->  \n",
      "10 -> A\n",
      "11 -> r\n",
      "12 -> e\n",
      "13 ->  \n",
      "14 -> Y\n",
      "15 -> o\n",
      "16 -> u\n"
     ]
    }
   ],
   "source": [
    "a=\"Hello How Are You\"\n",
    "for i,j in enumerate(a):\n",
    "    print(i,\"->\",j)"
   ]
  },
  {
   "cell_type": "code",
   "execution_count": 6,
   "metadata": {},
   "outputs": [
    {
     "name": "stdout",
     "output_type": "stream",
     "text": [
      "Enter I3\n",
      "Hel\n"
     ]
    }
   ],
   "source": [
    "#wap to remove ith character from string in python\n",
    "a=int(input(\"Enter I\"))\n",
    "b=\"Hello World\"\n",
    "print(b[:a])\n",
    "    "
   ]
  },
  {
   "cell_type": "code",
   "execution_count": 7,
   "metadata": {},
   "outputs": [
    {
     "name": "stdout",
     "output_type": "stream",
     "text": [
      "Enter I3\n",
      "Helo World\n"
     ]
    }
   ],
   "source": [
    "#wap to remove ith character from string in python\n",
    "a=int(input(\"Enter I\"))\n",
    "b=\"Hello World\"\n",
    "c=b[:a]+b[a+1:]\n",
    "print(c)\n",
    "\n",
    "    "
   ]
  },
  {
   "cell_type": "code",
   "execution_count": 25,
   "metadata": {},
   "outputs": [
    {
     "name": "stdout",
     "output_type": "stream",
     "text": [
      "Alphabet: 6 \n",
      "Numbers: 4 \n",
      "Special Characters: 2 \n",
      "Space: 5\n"
     ]
    }
   ],
   "source": [
    "#wap to count all letters and digit\n",
    "\n",
    "a=\"abc@#$  123%rhc#2\"\n",
    "l=0\n",
    "d=0\n",
    "s=0\n",
    "sp=0\n",
    "for i in a:\n",
    "    if i.isalpha():\n",
    "        l+=1\n",
    "    elif i.isnumeric():\n",
    "        d+=1\n",
    "    elif i.isspace():\n",
    "        sp+=1\n",
    "    else:\n",
    "        s+=1\n",
    "print(\"Alphabet:\",l,\"\\n\"\"Numbers:\",d,\"\\n\"\"Special Characters:\",sp,\"\\n\"\"Space:\",s)\n",
    "    "
   ]
  },
  {
   "cell_type": "code",
   "execution_count": 17,
   "metadata": {},
   "outputs": [
    {
     "name": "stdout",
     "output_type": "stream",
     "text": [
      "Enter StringWELCome\n",
      "The Count is: 1\n"
     ]
    }
   ],
   "source": [
    "#wap to find all accurances in a given string by ignoring the case\n",
    "s=\"Welcome To USA,usa is awesome,isn't it\"\n",
    "b=input(\"Enter String\")\n",
    "temp=s.lower()\n",
    "c=temp.count(b.lower())\n",
    "print(\"The Count is:\",c)\n",
    "\n",
    "    "
   ]
  },
  {
   "cell_type": "code",
   "execution_count": 23,
   "metadata": {},
   "outputs": [
    {
     "name": "stdout",
     "output_type": "stream",
     "text": [
      "Sum of Digit 19 Average is: 3.1666666666666665\n"
     ]
    }
   ],
   "source": [
    "#WAP TO calculate sum and average of the digit present in a strings\n",
    "s=\"pyt$@%h1724$ho32n\"\n",
    "c=0\n",
    "sum=0\n",
    "for i in s:\n",
    "    if i.isdigit():\n",
    "        sum+=int(i)\n",
    "        c+=1\n",
    "        \n",
    "print(\"Sum of Digit\",sum,\"Average is:\",sum/c)\n",
    "        "
   ]
  },
  {
   "cell_type": "code",
   "execution_count": 33,
   "metadata": {},
   "outputs": [
    {
     "name": "stdout",
     "output_type": "stream",
     "text": [
      "#################\n"
     ]
    }
   ],
   "source": [
    "#wap to replace each special symbol with #\n",
    "import string\n",
    "s=\"@$@%@^@&!%$#%@^@&\"\n",
    "for i in string.punctuation:\n",
    "    s=s.replace(i,\"#\")\n",
    "print(s)"
   ]
  },
  {
   "cell_type": "code",
   "execution_count": 35,
   "metadata": {},
   "outputs": [
    {
     "name": "stdout",
     "output_type": "stream",
     "text": [
      "MAXIMUM 7 Minimum 1\n"
     ]
    }
   ],
   "source": [
    "#wap to print max and min element in given tuple\n",
    "a=(1,2,3,4,5,6,7)\n",
    "min=a[0]\n",
    "max=a[0]\n",
    "for i in a:\n",
    "    if (i>max):\n",
    "        max=i\n",
    "    if i<min:\n",
    "        min=i\n",
    "print(\"MAXIMUM\",max,\"Minimum\",min)"
   ]
  },
  {
   "cell_type": "code",
   "execution_count": 40,
   "metadata": {},
   "outputs": [
    {
     "name": "stdout",
     "output_type": "stream",
     "text": [
      "We in Lj univ "
     ]
    }
   ],
   "source": [
    "#wap to print even length words in string\n",
    "a=\"We study in Lj univ\"\n",
    "b=a.split()\n",
    "for i in b:\n",
    "    if len(i)%2==0:\n",
    "        print(i,end=\" \")"
   ]
  },
  {
   "cell_type": "code",
   "execution_count": 44,
   "metadata": {},
   "outputs": [
    {
     "name": "stdout",
     "output_type": "stream",
     "text": [
      "HELLO HOw are you\n"
     ]
    }
   ],
   "source": [
    "#wap to upper case half of string\n",
    "a=\"HEllo how are you\"\n",
    "s=a[:len(a)//2].upper()+a[len(a)//2:]\n",
    "print(s)"
   ]
  },
  {
   "cell_type": "code",
   "execution_count": 50,
   "metadata": {},
   "outputs": [
    {
     "name": "stdout",
     "output_type": "stream",
     "text": [
      "ArmaN MaliK\n"
     ]
    }
   ],
   "source": [
    "#wap to ccapitalize 1st and last character of each word\n",
    "s=\"arman malik\"\n",
    "a=s.title()\n",
    "b=\"\"\n",
    "for i in a.split():\n",
    "    b+=i[:-1]+i[-1].upper()+\" \"\n",
    "print(b.rstrip())"
   ]
  },
  {
   "cell_type": "code",
   "execution_count": 54,
   "metadata": {},
   "outputs": [
    {
     "name": "stdout",
     "output_type": "stream",
     "text": [
      "enter nameaagam\n",
      "enter nameraajgivam\n",
      "Balanced\n"
     ]
    }
   ],
   "source": [
    "#wap to check if two strings is balanced\n",
    "s1=input(\"enter name\")\n",
    "s2=input(\"enter name\")\n",
    "flag=0\n",
    "for i in s1:\n",
    "    if i in s2:\n",
    "        continue\n",
    "    else:\n",
    "        flag=1\n",
    "if flag==1:\n",
    "    print(\"Not Balanced\")\n",
    "else:\n",
    "    print(\"Balanced\")"
   ]
  },
  {
   "cell_type": "code",
   "execution_count": 67,
   "metadata": {},
   "outputs": [
    {
     "name": "stdout",
     "output_type": "stream",
     "text": [
      "Enter Digit3\n",
      "456123\n"
     ]
    }
   ],
   "source": [
    "#wap to shift the decimal digit and places to left wraping the digits\n",
    "n=123456\n",
    "s=str(n)\n",
    "shift=int(input(\"Enter Digit\"))\n",
    "x=s[shift:]+s[:shift]\n",
    "print(x)"
   ]
  },
  {
   "cell_type": "code",
   "execution_count": 14,
   "metadata": {},
   "outputs": [
    {
     "name": "stdout",
     "output_type": "stream",
     "text": [
      "Enter PasswordDevam1234@$\n",
      "Password is Valid\n"
     ]
    }
   ],
   "source": [
    "#wap to check validity of password\n",
    "s=input(\"Enter Password:\")\n",
    "l,u,sp,d=0,0,0,0\n",
    "if len(s)>=8:\n",
    "    for i in s:\n",
    "        if i.islower():\n",
    "            l+=1\n",
    "        if i.isupper():\n",
    "            u+=1\n",
    "        if i.isdigit():\n",
    "            d+=1\n",
    "        if i==\"@\" or i==\"$\" or i==\"_\":\n",
    "            sp+=1\n",
    "    if (l>=1 and u>=1 and sp>=1 and d>=1 and l+u+sp+d==len(s)):\n",
    "        print(\"Password is Valid\")\n",
    "    else:\n",
    "        print(\"Invalid Password\")\n",
    "else:\n",
    "    print(\"Invalid Password\")"
   ]
  },
  {
   "cell_type": "code",
   "execution_count": 29,
   "metadata": {},
   "outputs": [
    {
     "name": "stdout",
     "output_type": "stream",
     "text": [
      "Enter Stringabababaababababababajab dnadbkjba\n",
      "Enter SUB stringa\n",
      "Found at Position 0\n",
      "Found at Position 2\n",
      "Found at Position 4\n",
      "Found at Position 6\n",
      "Found at Position 7\n",
      "Found at Position 9\n",
      "Found at Position 11\n",
      "Found at Position 13\n",
      "Found at Position 15\n",
      "Found at Position 17\n",
      "Found at Position 19\n",
      "Found at Position 21\n",
      "Found at Position 26\n",
      "Found at Position 32\n",
      "No of occurances: 14\n"
     ]
    }
   ],
   "source": [
    "#wap to display all position of substring in a given string\n",
    "s=input(\"Enter String\")\n",
    "sub=input(\"Enter SUB string\")\n",
    "c=0\n",
    "for i in range(len(s)):\n",
    "    if s[i]==sub:\n",
    "        print(\"Found at Position\",i)\n",
    "        \n",
    "        c+=1\n",
    "    if i==sub:\n",
    "        c+=1\n",
    "print(\"No of occurances:\",c)\n"
   ]
  },
  {
   "cell_type": "code",
   "execution_count": 12,
   "metadata": {},
   "outputs": [
    {
     "name": "stdout",
     "output_type": "stream",
     "text": [
      "Enter String:a5b2k4m3\n",
      "abkm2345\n"
     ]
    }
   ],
   "source": [
    "#wap to sort character of string and first alphabet symbol followed by numerical value\n",
    "s=input(\"Enter String:\")\n",
    "out=\"\"\n",
    "x=\"\"\n",
    "y=\"\"\n",
    "for i in s:\n",
    "    if i.isalpha():\n",
    "        x+=i\n",
    "    if i.isdigit():\n",
    "        y+=i\n",
    "# print(sorted(x),sorted(y))\n",
    "for i in sorted(x):\n",
    "    out+=i\n",
    "for i in sorted(y):\n",
    "    out+=i\n",
    "print(out)\n"
   ]
  },
  {
   "cell_type": "code",
   "execution_count": 16,
   "metadata": {},
   "outputs": [
    {
     "name": "stdout",
     "output_type": "stream",
     "text": [
      "Enter stringa4b5c6\n",
      "aaaabbbbbcccccc\n"
     ]
    }
   ],
   "source": [
    "a=input(\"Enter string\")\n",
    "b=''\n",
    "for i in a:\n",
    "    if i.isalpha():\n",
    "        b=b+i\n",
    "        p=i\n",
    "    else:\n",
    "        b=b+p*(int(i)-1)\n",
    "print(b)\n",
    "    "
   ]
  },
  {
   "cell_type": "code",
   "execution_count": null,
   "metadata": {},
   "outputs": [],
   "source": []
  }
 ],
 "metadata": {
  "kernelspec": {
   "display_name": "Python 3",
   "language": "python",
   "name": "python3"
  },
  "language_info": {
   "codemirror_mode": {
    "name": "ipython",
    "version": 3
   },
   "file_extension": ".py",
   "mimetype": "text/x-python",
   "name": "python",
   "nbconvert_exporter": "python",
   "pygments_lexer": "ipython3",
   "version": "3.8.5"
  }
 },
 "nbformat": 4,
 "nbformat_minor": 4
}
