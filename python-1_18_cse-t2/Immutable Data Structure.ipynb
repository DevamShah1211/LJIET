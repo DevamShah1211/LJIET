{
 "cells": [
  {
   "cell_type": "code",
   "execution_count": 1,
   "metadata": {},
   "outputs": [
    {
     "name": "stdout",
     "output_type": "stream",
     "text": [
      "J\n",
      "L\n",
      "Y\n",
      "T\n",
      "I\n"
     ]
    }
   ],
   "source": [
    "a=\"LJ UNIVERSITY\"\n",
    "print(a[1])\n",
    "print(a[0])\n",
    "print(a[-1])\n",
    "print(a[-2])\n",
    "print(a[-3])"
   ]
  },
  {
   "cell_type": "code",
   "execution_count": 2,
   "metadata": {},
   "outputs": [
    {
     "ename": "IndexError",
     "evalue": "string index out of range",
     "output_type": "error",
     "traceback": [
      "\u001b[1;31m---------------------------------------------------------------------------\u001b[0m",
      "\u001b[1;31mIndexError\u001b[0m                                Traceback (most recent call last)",
      "\u001b[1;32m<ipython-input-2-7227ecbc515c>\u001b[0m in \u001b[0;36m<module>\u001b[1;34m\u001b[0m\n\u001b[1;32m----> 1\u001b[1;33m \u001b[0mprint\u001b[0m\u001b[1;33m(\u001b[0m\u001b[0ma\u001b[0m\u001b[1;33m[\u001b[0m\u001b[1;36m100\u001b[0m\u001b[1;33m]\u001b[0m\u001b[1;33m)\u001b[0m\u001b[1;33m\u001b[0m\u001b[1;33m\u001b[0m\u001b[0m\n\u001b[0m",
      "\u001b[1;31mIndexError\u001b[0m: string index out of range"
     ]
    }
   ],
   "source": [
    "print(a[100])"
   ]
  },
  {
   "cell_type": "code",
   "execution_count": 5,
   "metadata": {},
   "outputs": [
    {
     "name": "stdout",
     "output_type": "stream",
     "text": [
      "JUIE\n"
     ]
    }
   ],
   "source": [
    "print(a[1:8:2])"
   ]
  },
  {
   "cell_type": "code",
   "execution_count": 23,
   "metadata": {},
   "outputs": [
    {
     "name": "stdout",
     "output_type": "stream",
     "text": [
      "LEARNING PYT\n",
      "LEARNIN\n",
      "LANN Y\n",
      "LEARNING PYTHON IN LJ UNIVERSITY\n",
      "LEARNING PYTHON IN LJ UNIVERSITY\n",
      "YTISREVINU JL NI NO\n",
      "LEARNING PYTHON IN LJ UNIVERSITY\n",
      "LEARNING P\n",
      "P GNI\n"
     ]
    }
   ],
   "source": [
    "s=\"LEARNING PYTHON IN LJ UNIVERSITY\"\n",
    "print(s[0:12:1])\n",
    "print(s[0:7:1])\n",
    "print(s[0:12:2])\n",
    "print(s[0:])\n",
    "print(s[::])\n",
    "print(s[-1:12:-1])\n",
    "print(s[:])\n",
    "print(s[:10])\n",
    "print(s[9:4:-1])"
   ]
  },
  {
   "cell_type": "code",
   "execution_count": 31,
   "metadata": {},
   "outputs": [
    {
     "name": "stdout",
     "output_type": "stream",
     "text": [
      "ArmanMalik\n",
      "*\n",
      "**\n",
      "***\n",
      "*\n",
      "**\n",
      "***\n",
      "\n"
     ]
    }
   ],
   "source": [
    "#mathematical operator in string\n",
    "# + = concatenation\n",
    "# * = Repetition \n",
    "print(\"Arman\"+\"Malik\")\n",
    "print(\"*\\n**\\n***\\n\"*2)"
   ]
  },
  {
   "cell_type": "code",
   "execution_count": 37,
   "metadata": {},
   "outputs": [
    {
     "name": "stdout",
     "output_type": "stream",
     "text": [
      "Enter First Stringarman\n",
      "Enter Second Stringaryan\n",
      "S2 is Greater\n"
     ]
    }
   ],
   "source": [
    "s1=input(\"Enter First String\")\n",
    "s2=input(\"Enter Second String\")\n",
    "if s1==s2:\n",
    "    print(\"Both Are Equal\")\n",
    "elif s1>s2:\n",
    "    print(\"S1 Is Greater\")\n",
    "else:\n",
    "    print(\"S2 is Greater\")\n",
    "    "
   ]
  },
  {
   "cell_type": "code",
   "execution_count": 44,
   "metadata": {},
   "outputs": [
    {
     "name": "stdout",
     "output_type": "stream",
     "text": [
      "Arman-Aryan-Lucky\n"
     ]
    }
   ],
   "source": [
    "t=(\"Arman\",\"Aryan\",\"Lucky\")\n",
    "a='-'.join(t)\n",
    "print(a)"
   ]
  },
  {
   "cell_type": "code",
   "execution_count": 45,
   "metadata": {},
   "outputs": [
    {
     "name": "stdout",
     "output_type": "stream",
     "text": [
      "aryan's salary is 500000000000 and age is 25\n",
      "500000000000's salary is aryan and age is 25\n"
     ]
    }
   ],
   "source": [
    "name=\"aryan\"\n",
    "salary=500000000000\n",
    "age=25\n",
    "print(\"{}'s salary is {} and age is {}\".format(name,salary,age))\n",
    "print(\"{1}'s salary is {0} and age is {2}\".format(name,salary,age))"
   ]
  },
  {
   "cell_type": "code",
   "execution_count": 60,
   "metadata": {},
   "outputs": [
    {
     "name": "stdout",
     "output_type": "stream",
     "text": [
      "32\n",
      "b\n",
      "banana        \n",
      "banana\n",
      "from all fruit  banana         is my favourite \n",
      "24 14\n"
     ]
    }
   ],
   "source": [
    "m=\"LEARNING PYTHON IN LJ UNIVERSITY\"\n",
    "print(len(m))\n",
    "t=\"banana\"\n",
    "x=t.rstrip(\"an\")\n",
    "print(x)\n",
    "z=\"          banana        \"\n",
    "x=z.lstrip()\n",
    "b=z.strip()\n",
    "print(x)\n",
    "print(b)\n",
    "print(\"from all fruit \",x,\"is my favourite \")\n",
    "print(len(z),len(x))\n"
   ]
  },
  {
   "cell_type": "code",
   "execution_count": 67,
   "metadata": {},
   "outputs": [
    {
     "name": "stdout",
     "output_type": "stream",
     "text": [
      "HELLO WORLD\n",
      "hello world\n",
      "HeLLo wOrLd\n"
     ]
    }
   ],
   "source": [
    "t=\"hello world\"\n",
    "x=t.upper()\n",
    "print(x)\n",
    "b=\"HEllO WORLD\"\n",
    "x=b.lower()\n",
    "print(x)\n",
    "c=\"hEllO WoRlD\"\n",
    "x=c.swapcase()\n",
    "print(x)"
   ]
  },
  {
   "cell_type": "code",
   "execution_count": 71,
   "metadata": {},
   "outputs": [
    {
     "name": "stdout",
     "output_type": "stream",
     "text": [
      "Hello My Name Is Arman\n",
      "Hello my name is arman\n"
     ]
    }
   ],
   "source": [
    "t=\"Hello my name is arman\"\n",
    "x=t.title()\n",
    "print(x)\n",
    "x=t.capitalize()\n",
    "print(x)"
   ]
  },
  {
   "cell_type": "code",
   "execution_count": 83,
   "metadata": {
    "scrolled": true
   },
   "outputs": [
    {
     "name": "stdout",
     "output_type": "stream",
     "text": [
      "True\n",
      "False\n",
      "True\n",
      "True\n",
      "True\n"
     ]
    }
   ],
   "source": [
    "t=\"Company123\"\n",
    "print(t.isalnum())\n",
    "t=\"Company 123\"\n",
    "print(t.isalnum())\n",
    "t=\"Company\"\n",
    "print(t.isalpha())\n",
    "t=\"123\"\n",
    "print(t.isdigit())\n",
    "t=\"123\"\n",
    "print(t.isnumeric())"
   ]
  },
  {
   "cell_type": "code",
   "execution_count": 86,
   "metadata": {},
   "outputs": [
    {
     "name": "stdout",
     "output_type": "stream",
     "text": [
      "True\n"
     ]
    }
   ],
   "source": [
    "t=\"hello world\"\n",
    "x=t.islower()\n",
    "print(x)"
   ]
  },
  {
   "cell_type": "code",
   "execution_count": 87,
   "metadata": {},
   "outputs": [
    {
     "name": "stdout",
     "output_type": "stream",
     "text": [
      "True\n"
     ]
    }
   ],
   "source": [
    "t=\"HELLO WORLD\"\n",
    "x=t.isupper()\n",
    "print(x)"
   ]
  },
  {
   "cell_type": "code",
   "execution_count": 5,
   "metadata": {},
   "outputs": [
    {
     "name": "stdout",
     "output_type": "stream",
     "text": [
      "Enter StringDevam\n",
      "Upper Case 1\n",
      "Lower case 4\n"
     ]
    }
   ],
   "source": [
    "s=input(\"Enter String\")\n",
    "l=0\n",
    "u=0\n",
    "for i in s:\n",
    "    if i.islower():\n",
    "        l+=1\n",
    "    elif i.isupper():\n",
    "        u+=1\n",
    "    else:\n",
    "        print(\"Enter Valid String\")\n",
    "print(\"Upper Case\",u)\n",
    "print(\"Lower case\",l)"
   ]
  },
  {
   "cell_type": "code",
   "execution_count": 9,
   "metadata": {},
   "outputs": [
    {
     "name": "stdout",
     "output_type": "stream",
     "text": [
      "True\n",
      "False\n",
      "True\n",
      "False\n"
     ]
    }
   ],
   "source": [
    "a=\"myfile\"\n",
    "b=\"1demo\"\n",
    "c=\"my_demo\"\n",
    "d=\"2 demo\"\n",
    "print(a.isidentifier())\n",
    "print(b.isidentifier())\n",
    "print(c.isidentifier())\n",
    "print(d.isidentifier())"
   ]
  },
  {
   "cell_type": "code",
   "execution_count": 12,
   "metadata": {},
   "outputs": [
    {
     "name": "stdout",
     "output_type": "stream",
     "text": [
      "True\n"
     ]
    }
   ],
   "source": [
    "t=\"     \"\n",
    "x=t.isspace()\n",
    "print(x)"
   ]
  },
  {
   "cell_type": "code",
   "execution_count": 18,
   "metadata": {},
   "outputs": [
    {
     "name": "stdout",
     "output_type": "stream",
     "text": [
      "Enter String:Hello How Are You\n",
      "Number Of Space 3\n",
      "Number of Words 4\n"
     ]
    }
   ],
   "source": [
    "s=input(\"Enter String:\")\n",
    "c=0\n",
    "w=0\n",
    "for i in s:\n",
    "    if i.isspace():\n",
    "        c=c+1\n",
    "        w=c+1\n",
    "print(\"Number Of Space\",c)\n",
    "print(\"Number of Words\",w)"
   ]
  },
  {
   "cell_type": "code",
   "execution_count": 32,
   "metadata": {},
   "outputs": [
    {
     "name": "stdout",
     "output_type": "stream",
     "text": [
      "-1\n",
      "9\n"
     ]
    }
   ],
   "source": [
    "s=\"learning java is very hard as its java\"\n",
    "print(s.find(\"Python\"))\n",
    "print(s.find(\"j\",3,10))"
   ]
  },
  {
   "cell_type": "code",
   "execution_count": 26,
   "metadata": {
    "scrolled": true
   },
   "outputs": [
    {
     "name": "stdout",
     "output_type": "stream",
     "text": [
      "6\n",
      "2\n"
     ]
    }
   ],
   "source": [
    "a=\"aababcabcdabcdeabcdef\"\n",
    "print(a.count(\"a\"))\n",
    "print(a.count(\"a\",3,10))"
   ]
  },
  {
   "cell_type": "code",
   "execution_count": 34,
   "metadata": {},
   "outputs": [
    {
     "name": "stdout",
     "output_type": "stream",
     "text": [
      "learning python is very hard as its java\n"
     ]
    }
   ],
   "source": [
    "b=s.replace(\"java\",\"python\",1)\n",
    "print(b)"
   ]
  },
  {
   "cell_type": "code",
   "execution_count": 6,
   "metadata": {},
   "outputs": [
    {
     "name": "stdout",
     "output_type": "stream",
     "text": [
      "LJ UNIVERSITY\n",
      "['LJ', 'UNIVERSITY']\n",
      "<class 'list'>\n",
      "LJ\n",
      "UNIVERSITY\n"
     ]
    }
   ],
   "source": [
    "s=\"LJ UNIVERSITY\"\n",
    "L=s.split()\n",
    "print(s)\n",
    "print(L)\n",
    "print(type(L))\n",
    "for i in L:\n",
    "    print(i)"
   ]
  },
  {
   "cell_type": "code",
   "execution_count": 24,
   "metadata": {},
   "outputs": [
    {
     "name": "stdout",
     "output_type": "stream",
     "text": [
      "['07-11-2024']\n",
      "07-11-2024\n"
     ]
    }
   ],
   "source": [
    "s=\"07-11-2024\"\n",
    "l=s.split()\n",
    "print(l)\n",
    "for i in l:\n",
    "    print(i)\n"
   ]
  },
  {
   "cell_type": "code",
   "execution_count": 42,
   "metadata": {
    "scrolled": true
   },
   "outputs": [
    {
     "name": "stdout",
     "output_type": "stream",
     "text": [
      "!\"#$%&'()*+,-./:;<=>?@[\\]^_`{|}~\n",
      "32\n",
      "<class 'str'>\n",
      "{97: 98, 33: None, 34: None, 35: None, 36: None, 37: None, 38: None, 39: None, 40: None, 41: None, 42: None, 43: None, 44: None, 45: None, 46: None, 47: None, 58: None, 59: None, 60: None, 61: None, 62: None, 63: None, 64: None, 91: None, 92: None, 93: None, 94: None, 95: None, 96: None, 123: None, 124: None, 125: None, 126: None}\n",
      "abxyzabc\n",
      "abxyz@abc\n"
     ]
    }
   ],
   "source": [
    "import string\n",
    "print(string.punctuation)\n",
    "print(len(string.punctuation))\n",
    "print(type(string.punctuation))\n",
    "print(str.maketrans(\"a\",\"b\",string.punctuation))\n",
    "t=\"ab$xyz@#%abc\"\n",
    "a=\"ab$xyz@#%abc\"\n",
    "t=t.translate(str.maketrans(\"\",\"\",string.punctuation))\n",
    "print(t)\n",
    "a=a.translate(str.maketrans(\"\",\"\",\"$#%\"))\n",
    "print(a)"
   ]
  },
  {
   "cell_type": "code",
   "execution_count": 45,
   "metadata": {},
   "outputs": [
    {
     "name": "stdout",
     "output_type": "stream",
     "text": [
      "hello joe\n"
     ]
    }
   ],
   "source": [
    "s=\"hello sam\"\n",
    "x=\"msa\"\n",
    "y=\"ejo\"\n",
    "t=s.maketrans(x,y)\n",
    "print(s.translate(t))"
   ]
  },
  {
   "cell_type": "code",
   "execution_count": 46,
   "metadata": {},
   "outputs": [
    {
     "name": "stdout",
     "output_type": "stream",
     "text": [
      "<class 'int'>\n"
     ]
    }
   ],
   "source": [
    "t=(10)\n",
    "print(type(t))"
   ]
  },
  {
   "cell_type": "code",
   "execution_count": 47,
   "metadata": {},
   "outputs": [
    {
     "name": "stdout",
     "output_type": "stream",
     "text": [
      "<class 'tuple'>\n"
     ]
    }
   ],
   "source": [
    "t=(10,)\n",
    "print(type(t))"
   ]
  },
  {
   "cell_type": "code",
   "execution_count": 48,
   "metadata": {},
   "outputs": [
    {
     "name": "stdout",
     "output_type": "stream",
     "text": [
      "<class 'tuple'>\n"
     ]
    }
   ],
   "source": [
    "t=()\n",
    "print(type(t))"
   ]
  },
  {
   "cell_type": "code",
   "execution_count": 49,
   "metadata": {},
   "outputs": [
    {
     "name": "stdout",
     "output_type": "stream",
     "text": [
      "(10, 12, 14, 16, 18)\n"
     ]
    }
   ],
   "source": [
    "t=10,20,30,40\n",
    "t1=tuple(range(10,20,2))\n",
    "print(t1)"
   ]
  },
  {
   "cell_type": "code",
   "execution_count": 51,
   "metadata": {},
   "outputs": [
    {
     "name": "stdout",
     "output_type": "stream",
     "text": [
      "10\n",
      "20\n",
      "40\n",
      "40\n",
      "(30, 40, 50)\n",
      "(20, 40, 40)\n"
     ]
    }
   ],
   "source": [
    "t=(10,20,30,40,50,40)\n",
    "print(t[0])\n",
    "print(t[1])\n",
    "print(t[-1])\n",
    "print(t[-3])\n",
    "print(t[2:5])\n",
    "print(t[1::2])"
   ]
  },
  {
   "cell_type": "code",
   "execution_count": 53,
   "metadata": {},
   "outputs": [
    {
     "name": "stdout",
     "output_type": "stream",
     "text": [
      "(40, 50, 40)\n"
     ]
    }
   ],
   "source": [
    "print(t[-1:-4:-1])"
   ]
  },
  {
   "cell_type": "code",
   "execution_count": 56,
   "metadata": {},
   "outputs": [
    {
     "name": "stdout",
     "output_type": "stream",
     "text": [
      "(10, 20, 30, 40, 50, 60, 70, 80)\n",
      "(10, 20, 30, 40, 50, 60, 70, 80, 10, 20, 30, 40, 50, 60, 70, 80, 10, 20, 30, 40, 50, 60, 70, 80)\n"
     ]
    }
   ],
   "source": [
    "t1=(10,20,30,40)\n",
    "t2=(50,60,70,80)\n",
    "t=t1+t2\n",
    "print(t)\n",
    "t3=t*3\n",
    "print(t3)"
   ]
  },
  {
   "cell_type": "code",
   "execution_count": 66,
   "metadata": {
    "scrolled": true
   },
   "outputs": [
    {
     "name": "stdout",
     "output_type": "stream",
     "text": [
      "(10, 20, 30, [10, 50, 60])\n"
     ]
    }
   ],
   "source": [
    "t=(10,20,30,[40,50,60])\n",
    "t[3][0]=10\n",
    "print(t)"
   ]
  },
  {
   "cell_type": "code",
   "execution_count": 67,
   "metadata": {},
   "outputs": [
    {
     "name": "stdout",
     "output_type": "stream",
     "text": [
      "4\n"
     ]
    }
   ],
   "source": [
    "t=(10,20,30,40)\n",
    "print(len(t))"
   ]
  },
  {
   "cell_type": "code",
   "execution_count": 75,
   "metadata": {},
   "outputs": [
    {
     "name": "stdout",
     "output_type": "stream",
     "text": [
      "0\n",
      "1\n",
      "4\n"
     ]
    }
   ],
   "source": [
    "t=(10,20,10,10,30)\n",
    "print(t.index(10))\n",
    "print(t.index(20))\n",
    "print(t.index(30))\n"
   ]
  },
  {
   "cell_type": "code",
   "execution_count": 88,
   "metadata": {},
   "outputs": [
    {
     "name": "stdout",
     "output_type": "stream",
     "text": [
      "[40, 30, 30, 20, 10]\n",
      "[10, 20, 30, 30, 40]\n"
     ]
    }
   ],
   "source": [
    "t=(40,10,20,30,30)\n",
    "t1=sorted(t,reverse=True)\n",
    "print(t1)\n",
    "t=(40,10,20,30,30)\n",
    "t1=sorted(t)\n",
    "print(t1)"
   ]
  },
  {
   "cell_type": "code",
   "execution_count": 85,
   "metadata": {},
   "outputs": [
    {
     "name": "stdout",
     "output_type": "stream",
     "text": [
      "20\n",
      "10\n"
     ]
    }
   ],
   "source": [
    "a=\"10\"\n",
    "b=\"20\"\n",
    "c=max(a,b)\n",
    "d=min(a,b)\n",
    "print(c)\n",
    "print(d)"
   ]
  },
  {
   "cell_type": "code",
   "execution_count": 89,
   "metadata": {},
   "outputs": [
    {
     "name": "stdout",
     "output_type": "stream",
     "text": [
      "Arman\n",
      "Aryan\n"
     ]
    }
   ],
   "source": [
    "a=\"Aryan\"\n",
    "b=\"Arman\"\n",
    "c=min(a,b)\n",
    "d=max(a,b)\n",
    "print(c)\n",
    "print(d)\n"
   ]
  },
  {
   "cell_type": "code",
   "execution_count": 92,
   "metadata": {},
   "outputs": [
    {
     "name": "stdout",
     "output_type": "stream",
     "text": [
      "300\n",
      "100\n"
     ]
    }
   ],
   "source": [
    "t=(\"200\",\"300\",\"100\")\n",
    "print(max(t))\n",
    "print(min(t))"
   ]
  },
  {
   "cell_type": "code",
   "execution_count": null,
   "metadata": {},
   "outputs": [],
   "source": []
  }
 ],
 "metadata": {
  "kernelspec": {
   "display_name": "Python 3",
   "language": "python",
   "name": "python3"
  },
  "language_info": {
   "codemirror_mode": {
    "name": "ipython",
    "version": 3
   },
   "file_extension": ".py",
   "mimetype": "text/x-python",
   "name": "python",
   "nbconvert_exporter": "python",
   "pygments_lexer": "ipython3",
   "version": "3.8.5"
  }
 },
 "nbformat": 4,
 "nbformat_minor": 4
}
