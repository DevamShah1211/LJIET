{
 "cells": [
  {
   "cell_type": "code",
   "execution_count": 24,
   "metadata": {},
   "outputs": [
    {
     "name": "stdout",
     "output_type": "stream",
     "text": [
      "<class 'dict'>\n",
      "{10: 'Apple', 20: 'Banana', 30: 'Mango', 40: 'Lichi'}\n"
     ]
    }
   ],
   "source": [
    "d={}\n",
    "print(type(d))\n",
    "d=dict()\n",
    "d[10]=\"Apple\"\n",
    "d[20]=\"Banana\"\n",
    "d[30]=\"Mango\"\n",
    "d[40]=\"Lichi\"\n",
    "print(d)"
   ]
  },
  {
   "cell_type": "code",
   "execution_count": 25,
   "metadata": {},
   "outputs": [
    {
     "name": "stdout",
     "output_type": "stream",
     "text": [
      "Banana\n",
      "Mango\n"
     ]
    }
   ],
   "source": [
    "print(d[20])\n",
    "print(d[30])"
   ]
  },
  {
   "cell_type": "code",
   "execution_count": 26,
   "metadata": {},
   "outputs": [
    {
     "name": "stdout",
     "output_type": "stream",
     "text": [
      "{10: 'Apple', 20: 'Banana', 30: 'Mango', 40: 'Lichi', 50: 'Orange'}\n"
     ]
    }
   ],
   "source": [
    "d[50]=\"Orange\"\n",
    "print(d)"
   ]
  },
  {
   "cell_type": "code",
   "execution_count": 27,
   "metadata": {},
   "outputs": [
    {
     "name": "stdout",
     "output_type": "stream",
     "text": [
      "{10: 'Apple', 20: 'Banana', 30: 'Mango', 40: 'Lichi'}\n"
     ]
    }
   ],
   "source": [
    "del d[50]\n",
    "print(d)"
   ]
  },
  {
   "cell_type": "code",
   "execution_count": 28,
   "metadata": {},
   "outputs": [
    {
     "name": "stdout",
     "output_type": "stream",
     "text": [
      "{}\n"
     ]
    }
   ],
   "source": [
    "d.clear()\n",
    "print(d)"
   ]
  },
  {
   "cell_type": "code",
   "execution_count": 30,
   "metadata": {},
   "outputs": [
    {
     "name": "stdout",
     "output_type": "stream",
     "text": [
      "{1: 1, 2: 4, 3: 9, 4: 16, 5: 25}\n"
     ]
    }
   ],
   "source": [
    "#dictionary comprehension\n",
    "#syntax d={experession for item in list if condition}\n",
    "d={x:x*x for x in range(1,6)}\n",
    "print(d)"
   ]
  },
  {
   "cell_type": "code",
   "execution_count": 32,
   "metadata": {},
   "outputs": [
    {
     "name": "stdout",
     "output_type": "stream",
     "text": [
      "{10: 'apple', 20: 'mango', 30: 'lichi'}\n",
      "3\n"
     ]
    }
   ],
   "source": [
    "#important functions of dictionary\n",
    "#1:-dict()\n",
    "#2:-len()\n",
    "d=dict([(10,\"apple\"),(20,\"mango\"),(30,\"lichi\")])\n",
    "print(d)\n",
    "print(len(d))"
   ]
  },
  {
   "cell_type": "code",
   "execution_count": 35,
   "metadata": {},
   "outputs": [
    {
     "name": "stdout",
     "output_type": "stream",
     "text": [
      "{1: 60, 2: 30, 3: 40}\n"
     ]
    }
   ],
   "source": [
    "#3:-clear()\n",
    "#4:-copy()\n",
    "s={1:20,2:30,3:40}\n",
    "s1=s.copy()\n",
    "s1[1]=60\n",
    "print(s1)"
   ]
  },
  {
   "cell_type": "code",
   "execution_count": 37,
   "metadata": {},
   "outputs": [
    {
     "name": "stdout",
     "output_type": "stream",
     "text": [
      "{10: 'Apple', 20: 'Lichi', 40: 'Banana'}\n",
      "{20: 'Lichi', 40: 'Banana'}\n"
     ]
    }
   ],
   "source": [
    "#5:-update()\n",
    "d={10:\"Apple\",20:\"Mango\"}\n",
    "x={20:\"Lichi\",40:\"Banana\"}\n",
    "d.update(x)\n",
    "print(d)\n",
    "print(x)"
   ]
  },
  {
   "cell_type": "code",
   "execution_count": 39,
   "metadata": {},
   "outputs": [
    {
     "name": "stdout",
     "output_type": "stream",
     "text": [
      "Lucky\n",
      "Lucky\n",
      "None\n",
      "Aryan\n"
     ]
    }
   ],
   "source": [
    "#6:-get()\n",
    "d={10:\"Lucky\",20:\"Arman\",30:\"Aryan\"}\n",
    "print(d[10])\n",
    "print(d.get(10))\n",
    "print(d.get(40))\n",
    "print(d.get(30))"
   ]
  },
  {
   "cell_type": "code",
   "execution_count": 41,
   "metadata": {},
   "outputs": [
    {
     "name": "stdout",
     "output_type": "stream",
     "text": [
      "Lucky\n",
      "Guest\n"
     ]
    }
   ],
   "source": [
    "print(d.get(10,\"Guest\"))\n",
    "print(d.get(40,\"Guest\"))"
   ]
  },
  {
   "cell_type": "code",
   "execution_count": 44,
   "metadata": {},
   "outputs": [
    {
     "name": "stdout",
     "output_type": "stream",
     "text": [
      "(30, 'Malik')\n",
      "{10: 'Lucky', 20: 'Arman'}\n"
     ]
    }
   ],
   "source": [
    "#popitem()\n",
    "d={10:\"Lucky\",20:\"Arman\",30:\"Malik\"}\n",
    "print(d.popitem())\n",
    "print(d)"
   ]
  },
  {
   "cell_type": "code",
   "execution_count": 46,
   "metadata": {},
   "outputs": [
    {
     "name": "stdout",
     "output_type": "stream",
     "text": [
      "dict_keys([10, 20, 30])\n",
      "10\n",
      "20\n",
      "30\n",
      "Lucky\n",
      "Arman\n",
      "Malik\n"
     ]
    }
   ],
   "source": [
    "#keys()\n",
    "#values()\n",
    "d={10:\"Lucky\",20:\"Arman\",30:\"Malik\"}\n",
    "print(d.keys())\n",
    "for i in d.keys():\n",
    "    print(i)\n",
    "for i in d.values():\n",
    "    print(i)"
   ]
  },
  {
   "cell_type": "code",
   "execution_count": 47,
   "metadata": {},
   "outputs": [
    {
     "name": "stdout",
     "output_type": "stream",
     "text": [
      "dict_items([(10, 'Lucky'), (20, 'Arman'), (30, 'Malik')])\n",
      "10 -> Lucky\n",
      "20 -> Arman\n",
      "30 -> Malik\n"
     ]
    }
   ],
   "source": [
    "#items()\n",
    "print(d.items())\n",
    "for i,j in d.items():\n",
    "    print(i,\"->\",j)"
   ]
  },
  {
   "cell_type": "code",
   "execution_count": 48,
   "metadata": {},
   "outputs": [
    {
     "name": "stdout",
     "output_type": "stream",
     "text": [
      "Stark\n",
      "{10: 'Lucky', 20: 'Arman', 30: 'Malik', 40: 'Stark'}\n",
      "Lucky\n",
      "{10: 'Lucky', 20: 'Arman', 30: 'Malik', 40: 'Stark'}\n"
     ]
    }
   ],
   "source": [
    "#setdefault()\n",
    "print(d.setdefault(40,\"Stark\"))\n",
    "print(d)\n",
    "print(d.setdefault(10,\"Sachin\"))\n",
    "print(d)"
   ]
  },
  {
   "cell_type": "code",
   "execution_count": null,
   "metadata": {},
   "outputs": [],
   "source": []
  }
 ],
 "metadata": {
  "kernelspec": {
   "display_name": "Python 3",
   "language": "python",
   "name": "python3"
  },
  "language_info": {
   "codemirror_mode": {
    "name": "ipython",
    "version": 3
   },
   "file_extension": ".py",
   "mimetype": "text/x-python",
   "name": "python",
   "nbconvert_exporter": "python",
   "pygments_lexer": "ipython3",
   "version": "3.8.5"
  }
 },
 "nbformat": 4,
 "nbformat_minor": 4
}
