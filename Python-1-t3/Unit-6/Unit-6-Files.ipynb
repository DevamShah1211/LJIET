{
 "cells": [
  {
   "cell_type": "markdown",
   "metadata": {},
   "source": [
    "# working with files\n",
    "python-inbuilt file functions:\n",
    "    1)Creating\n",
    "    2)writing\n",
    "    3)reading\n",
    "Type Of files:\n",
    "    1)text files\n",
    "    2)binary files"
   ]
  },
  {
   "cell_type": "markdown",
   "metadata": {},
   "source": [
    "# modes:\n",
    "    1)read only ('r')\n",
    "    2)read and write('r+')\n",
    "    3)write only('w')\n",
    "    4)write and read('w+')\n",
    "    5)append only('a')\n",
    "    6)append and read('a+')"
   ]
  },
  {
   "cell_type": "code",
   "execution_count": 28,
   "metadata": {},
   "outputs": [
    {
     "name": "stdout",
     "output_type": "stream",
     "text": [
      "Hello World\n"
     ]
    }
   ],
   "source": [
    "#read-only('r'):\n",
    "f=open(\"D:\\\\tst.txt\",'r')\n",
    "print(f.read())\n",
    "f.close()"
   ]
  },
  {
   "cell_type": "code",
   "execution_count": 30,
   "metadata": {},
   "outputs": [
    {
     "name": "stdout",
     "output_type": "stream",
     "text": [
      "Hello ðŸ‘‹ How are you\n",
      "False\n",
      "True\n"
     ]
    }
   ],
   "source": [
    "f=open(\"tst.txt\",'r')\n",
    "print(f.read())\n",
    "print(f.closed)\n",
    "f.close()\n",
    "print(f.closed)"
   ]
  },
  {
   "cell_type": "code",
   "execution_count": 35,
   "metadata": {},
   "outputs": [
    {
     "name": "stdout",
     "output_type": "stream",
     "text": [
      "Hello\n",
      "\n"
     ]
    }
   ],
   "source": [
    "f=open(\"D://1/1.txt\",'r')\n",
    "print(f.read())"
   ]
  },
  {
   "cell_type": "code",
   "execution_count": 36,
   "metadata": {},
   "outputs": [
    {
     "name": "stdout",
     "output_type": "stream",
     "text": [
      "Hello ðŸ‘‹ How are you\n",
      "False\n",
      "True\n"
     ]
    }
   ],
   "source": [
    "with open(\"tst.txt\",\"r\") as f:\n",
    "    print(f.read())\n",
    "    print(f.closed)\n",
    "print(f.closed)"
   ]
  },
  {
   "cell_type": "code",
   "execution_count": 41,
   "metadata": {},
   "outputs": [
    {
     "name": "stdout",
     "output_type": "stream",
     "text": [
      "3\n",
      "lo ðŸ‘‹ How are you\n",
      "xyzlo ðŸ‘‹ How are you\n",
      "xyzlo ðŸ‘‹ How are you\n",
      "xyzlo ðŸ‘‹ How are you\n",
      "xyzlo ðŸ‘‹ How are you\n",
      "xyzlo ðŸ‘‹ How are you\n",
      "xyzlo ðŸ‘‹ How are you\n",
      "xyzlo ðŸ‘‹ How are you\n",
      "xyzlo ðŸ‘‹ How are you\n",
      "xyzlo ðŸ‘‹ How are you\n",
      "xyzlo ðŸ‘‹ How are you\n",
      "\n"
     ]
    }
   ],
   "source": [
    "f=open(\"tst.txt\",\"r+\")\n",
    "print(f.write(\"xyz\"))\n",
    "print(f.read())\n",
    "f.close()"
   ]
  },
  {
   "cell_type": "code",
   "execution_count": 44,
   "metadata": {},
   "outputs": [
    {
     "name": "stdout",
     "output_type": "stream",
     "text": [
      "['xyzlo 👋 How are you\\n', 'xyzlo 👋 How are you\\n', 'xyzlo 👋 How are you\\n', 'xyzlo 👋 How are you\\n', 'xyzlo 👋 How are you\\n', 'xyzlo 👋 How are you\\n', 'xyzlo 👋 How are you\\n', 'xyzlo 👋 How are you\\n', 'xyzlo 👋 How are you\\n', 'xyzlo 👋 How are you\\n', 'xyzlo 👋 How are you\\n']\n"
     ]
    }
   ],
   "source": [
    "f=open(\"tst.txt\",\"r\",encoding=\"utf-8\")\n",
    "print(f.readlines())"
   ]
  },
  {
   "cell_type": "code",
   "execution_count": 54,
   "metadata": {},
   "outputs": [
    {
     "name": "stdout",
     "output_type": "stream",
     "text": [
      "5\n",
      " 👋 How are you\n",
      "xyzlo 👋 How are you\n",
      "xyzlo 👋 How are you\n",
      "xyzlo 👋 How are you\n",
      "xyzlo 👋 How are you\n",
      "xyzlo 👋 How are you\n",
      "xyzlo 👋 How are you\n",
      "xyzlo 👋 How are you\n",
      "xyzlo 👋 How are you\n",
      "xyzlo 👋 How are you\n",
      "xyzlo 👋 How are you\n",
      "\n"
     ]
    }
   ],
   "source": [
    "f.tell()\n",
    "f.seek(5)\n",
    "print(f.tell())\n",
    "print(f.read())"
   ]
  },
  {
   "cell_type": "code",
   "execution_count": 56,
   "metadata": {},
   "outputs": [
    {
     "name": "stdout",
     "output_type": "stream",
     "text": [
      "xyzlo 👋 Ho\n",
      "13\n",
      "w are\n",
      "18\n",
      " you\n",
      "xyzlo 👋 How are you\n",
      "xyzlo 👋 How are you\n",
      "xyzlo 👋 How are you\n",
      "xyzlo 👋 How are you\n",
      "xyzlo 👋 How are you\n",
      "xyzlo 👋 How are you\n",
      "xyzlo 👋 How are you\n",
      "xyzlo 👋 How are you\n",
      "xyzlo 👋 How are you\n",
      "xyzlo 👋 How are you\n",
      "\n",
      "253\n"
     ]
    }
   ],
   "source": [
    "f=open(\"tst.txt\",'r', encoding=\"utf-8\")\n",
    "print(f.read(10))\n",
    "print(f.tell())\n",
    "print(f.read(5))\n",
    "print(f.tell())\n",
    "print(f.read())\n",
    "print(f.tell())"
   ]
  },
  {
   "cell_type": "code",
   "execution_count": 58,
   "metadata": {},
   "outputs": [
    {
     "name": "stdout",
     "output_type": "stream",
     "text": [
      "xyzlo 👋 How are you1\n",
      "\n",
      "xyzlo 👋 How are you2\n",
      "\n",
      "xyzlo 👋 How are you3\n",
      "\n",
      "xyzlo 👋 How are you4\n",
      "\n",
      "xyzlo 👋 How are you5\n",
      "\n"
     ]
    }
   ],
   "source": [
    "f=open(\"tst.txt\",\"r\",encoding=\"utf-8\")\n",
    "print(f.readline())\n",
    "print(f.readline())\n",
    "print(f.readline())\n",
    "print(f.readline())\n",
    "print(f.readline())"
   ]
  },
  {
   "cell_type": "code",
   "execution_count": 59,
   "metadata": {},
   "outputs": [
    {
     "name": "stdout",
     "output_type": "stream",
     "text": [
      "xyzlo 👋 Ho\n",
      "w are\n",
      " you1\n",
      "\n",
      "xyzlo 👋 Ho\n",
      "w are you2\n",
      "\n"
     ]
    }
   ],
   "source": [
    "f=open(\"tst.txt\",\"r\",encoding=\"utf-8\")\n",
    "print(f.readline(10))\n",
    "print(f.readline(5))\n",
    "print(f.readline(50))\n",
    "print(f.readline(10))\n",
    "print(f.readline())"
   ]
  },
  {
   "cell_type": "code",
   "execution_count": 73,
   "metadata": {},
   "outputs": [
    {
     "name": "stdout",
     "output_type": "stream",
     "text": [
      "['xyzlo 👋 How are you1\\n', 'xyzlo 👋 How are you2\\n', 'xyzlo 👋 How are you3\\n', 'xyzlo 👋 How are you4\\n', 'xyzlo 👋 How are you5\\n']\n"
     ]
    }
   ],
   "source": [
    "f=open(\"tst.txt\",\"r\",encoding=\"utf-8\")\n",
    "print(f.readlines(100))"
   ]
  },
  {
   "cell_type": "code",
   "execution_count": 80,
   "metadata": {},
   "outputs": [
    {
     "data": {
      "text/plain": [
       "19"
      ]
     },
     "execution_count": 80,
     "metadata": {},
     "output_type": "execute_result"
    }
   ],
   "source": [
    "f=open(\"test.txt\",\"w\",encoding=\"utf-8\")\n",
    "f.write(\"This is a text file\")"
   ]
  },
  {
   "cell_type": "code",
   "execution_count": 82,
   "metadata": {},
   "outputs": [],
   "source": [
    "f=open(\"test.txt\",\"w\",encoding=\"utf-8\")\n",
    "f.write(\"This is a text file\")\n",
    "f.close()"
   ]
  },
  {
   "cell_type": "code",
   "execution_count": 79,
   "metadata": {},
   "outputs": [],
   "source": [
    "with open(\"test1.txt\",\"w\")as f:\n",
    "    f.write(\"This is test data\")"
   ]
  },
  {
   "cell_type": "code",
   "execution_count": 91,
   "metadata": {},
   "outputs": [
    {
     "name": "stdout",
     "output_type": "stream",
     "text": [
      "Enter Name:Devam Kavla kishit krish tiru kallu muka abhi chamu\n",
      "6\n",
      "6\n",
      "7\n",
      "6\n",
      "5\n",
      "6\n",
      "5\n",
      "5\n",
      "6\n"
     ]
    }
   ],
   "source": [
    "f=open(\"text1.txt\",\"w\")\n",
    "e=input(\"Enter Name:\")\n",
    "d=e.split()\n",
    "for i in d:\n",
    "    print(f.write(i+\"\\n\"))\n",
    "f.close()"
   ]
  },
  {
   "cell_type": "code",
   "execution_count": 92,
   "metadata": {},
   "outputs": [],
   "source": [
    "f=open(\"Text.txt\",\"w\")\n",
    "l=[\"A\",\"B\",\"C\",\"D\"]\n",
    "f.writelines(l)\n",
    "f.close()"
   ]
  },
  {
   "cell_type": "code",
   "execution_count": 93,
   "metadata": {},
   "outputs": [
    {
     "name": "stdout",
     "output_type": "stream",
     "text": [
      "Enter Name:Devam\n",
      "Enter Name:Kavla\n",
      "Enter Name:Bhalu\n"
     ]
    }
   ],
   "source": [
    "f=open(\"Text2.txt\",\"w\")\n",
    "l=[]\n",
    "for i in range(3):\n",
    "    name=input(\"Enter Name:\")\n",
    "    l.append(name+\"\\n\")\n",
    "f.writelines(l)\n",
    "f.close()"
   ]
  },
  {
   "cell_type": "code",
   "execution_count": 94,
   "metadata": {},
   "outputs": [
    {
     "name": "stdout",
     "output_type": "stream",
     "text": [
      "Devam\n",
      "Kavla\n",
      "Bhalu\n",
      "\n"
     ]
    }
   ],
   "source": [
    "f=open(\"Text2.txt\")\n",
    "print(f.read())"
   ]
  },
  {
   "cell_type": "code",
   "execution_count": 5,
   "metadata": {},
   "outputs": [],
   "source": [
    "#wap to copy the content of 1st file to another\n",
    "f=open(\"Text2.txt\",\"r\")\n",
    "f1=open(\"count.txt\",\"w\")\n",
    "data=f.read()\n",
    "f1.write(data)\n",
    "f.close()\n",
    "f1.close()"
   ]
  },
  {
   "cell_type": "code",
   "execution_count": 6,
   "metadata": {},
   "outputs": [],
   "source": [
    "#wap to copy the content of 1st file to another\n",
    "f=open(\"Text2.txt\",\"r\")\n",
    "f1=open(\"count.txt\",\"w\")\n",
    "data=f.read().upper()\n",
    "f1.write(data)\n",
    "f.close()\n",
    "f1.close()"
   ]
  },
  {
   "cell_type": "code",
   "execution_count": 13,
   "metadata": {},
   "outputs": [],
   "source": [
    "#wap to copy content of dictionary to a file\n",
    "with open(\"count.txt\",\"w\") as f:\n",
    "    d={\"Name\":\"Arman\",\"Age\":19,\"Degree\":\"CSE\",\"University\":\"Oxford\"}\n",
    "    for key,value in d.items():\n",
    "        f.write(str(key)+\":\"+str(value)+\"\\n\")\n"
   ]
  },
  {
   "cell_type": "code",
   "execution_count": 16,
   "metadata": {},
   "outputs": [],
   "source": [
    "#Wap to reverse the content of file and store it in another file\n",
    "f=open(\"Text2.txt\",\"r\")\n",
    "f1=open(\"count.txt\",\"w\")\n",
    "data=f.read()\n",
    "data=data[::-1]\n",
    "f1.write(data)\n",
    "f.close()\n",
    "f1.close()"
   ]
  },
  {
   "cell_type": "code",
   "execution_count": 37,
   "metadata": {},
   "outputs": [
    {
     "name": "stdout",
     "output_type": "stream",
     "text": [
      "['xyzlo ðŸ‘‹ How are you1\\n', 'xyzlo ðŸ‘‹ How are you2\\n', 'xyzlo ðŸ‘‹ How are you3\\n', 'xyzlo ðŸ‘‹ How are you4\\n', 'xyzlo ðŸ‘‹ How are you5\\n', 'xyzlo ðŸ‘‹ How are you6\\n', 'xyzlo ðŸ‘‹ How are you7\\n', 'xyzlo ðŸ‘‹ How are you8\\n', 'xyzlo ðŸ‘‹ How are you9\\n', 'xyzlo ðŸ‘‹ How are you10\\n', 'xyzlo ðŸ‘‹ How are you11\\n']\n",
      "\n",
      "['xyzlo ðŸ‘‹ How are you11\\n', 'xyzlo ðŸ‘‹ How are you10\\n', 'xyzlo ðŸ‘‹ How are you9\\n', 'xyzlo ðŸ‘‹ How are you8\\n', 'xyzlo ðŸ‘‹ How are you7\\n', 'xyzlo ðŸ‘‹ How are you6\\n', 'xyzlo ðŸ‘‹ How are you5\\n', 'xyzlo ðŸ‘‹ How are you4\\n', 'xyzlo ðŸ‘‹ How are you3\\n', 'xyzlo ðŸ‘‹ How are you2\\n', 'xyzlo ðŸ‘‹ How are you1\\n']\n",
      "\n"
     ]
    }
   ],
   "source": [
    "#Wap to reverse content of file line wise\n",
    "f=open(\"tst.txt\",\"r\")\n",
    "f1=open(\"count.txt\",\"w\")\n",
    "f2=f.readlines(250)\n",
    "print(f2)\n",
    "print()\n",
    "f2=f2[::-1]\n",
    "print(f2)\n",
    "print()\n",
    "f1.writelines(f2)\n",
    "f.close()"
   ]
  },
  {
   "cell_type": "code",
   "execution_count": 52,
   "metadata": {},
   "outputs": [
    {
     "name": "stdout",
     "output_type": "stream",
     "text": [
      "Enter Number of line you want to read4\n",
      "xyzlo 👋 How are you7\n",
      "\n"
     ]
    }
   ],
   "source": [
    "#wap to read specific line entered by user from file\n",
    "f=open(\"tst.txt\",\"r\",encoding=\"utf-8\")\n",
    "a=int(input(\"Enter Number of line you want to read\"))\n",
    "data=f.readlines()\n",
    "if a<=len(data):\n",
    "    print(data[a-1])\n",
    "else:\n",
    "    print(\"Enter valid\")"
   ]
  },
  {
   "cell_type": "code",
   "execution_count": 47,
   "metadata": {},
   "outputs": [],
   "source": [
    "#wap to copy odd lines and even lines in two different files from given file\n",
    "f=open(\"tst.txt\",\"r\")\n",
    "f1=open(\"count.txt\",\"w\")\n",
    "f2=open(\"text.txt\",\"w\")\n",
    "data=f.readlines()\n",
    "f1.writelines(data[1::2])\n",
    "f2.writelines(data[0::2])\n",
    "f1.close()\n",
    "f2.close()"
   ]
  },
  {
   "cell_type": "code",
   "execution_count": 59,
   "metadata": {},
   "outputs": [
    {
     "name": "stdout",
     "output_type": "stream",
     "text": [
      "Enter Name of file to select it:tst.txt\n"
     ]
    }
   ],
   "source": [
    "a=input(\"Enter Name of file to select it:\")\n",
    "f=open(a,\"r\",encoding=\"utf-8\")\n",
    "data=f.readlines()\n",
    "for i in data:\n",
    "    if len(i)==5:\n",
    "        print(data)\n",
    "        break\n",
    "    else:\n",
    "        continue\n",
    "\n",
    "f.close()"
   ]
  },
  {
   "cell_type": "code",
   "execution_count": 65,
   "metadata": {},
   "outputs": [
    {
     "name": "stdout",
     "output_type": "stream",
     "text": [
      "Enter Name of file to select it:tst.txt\n",
      "xyzlo 👋 How are you1\n",
      "\n",
      "xyzlo 👋 How are you3\n",
      "\n",
      "xyzlo 👋 How are you5\n",
      "\n",
      "xyzlo 👋 How are you7\n",
      "\n",
      "xyzlo 👋 How are you9\n",
      "\n",
      "Enter any key to continue or press Q to exitq\n"
     ]
    }
   ],
   "source": [
    "a=input(\"Enter Name of file to select it:\")\n",
    "f=open(a,\"r\",encoding=\"utf-8\")\n",
    "lines=5\n",
    "for index,line in enumerate(f,1):\n",
    "    print(line)\n",
    "    if index % lines==0:\n",
    "        x=input(\"Enter any key to continue or press Q to exit\")\n",
    "        if x.lower()=='q':\n",
    "            break\n",
    "        else:\n",
    "            continue"
   ]
  },
  {
   "cell_type": "code",
   "execution_count": 71,
   "metadata": {},
   "outputs": [],
   "source": [
    "#wap to copy content two files in single file\n",
    "f=open(\"count.txt\",\"r\")\n",
    "f1=open(\"test1.txt\",\"r\")\n",
    "f2=open(\"test.txt\",\"w\")\n",
    "data=f.read()\n",
    "f2.write(data)\n",
    "data=f1.read()\n",
    "f2.write(data)\n",
    "f2.close()"
   ]
  },
  {
   "cell_type": "code",
   "execution_count": 87,
   "metadata": {},
   "outputs": [
    {
     "name": "stdout",
     "output_type": "stream",
     "text": [
      "program for addition\n",
      "def sum(a,b): function defination\n",
      "    c=a+b\n",
      "    print(c)  print the output\n"
     ]
    }
   ],
   "source": [
    "#wap for addition\n",
    "f=open(\"addition.txt\",\"r\")\n",
    "data=f.read()\n",
    "c=\"\"\n",
    "for i in data:\n",
    "    if i!=\"#\":\n",
    "        c+=i \n",
    "print(c)"
   ]
  },
  {
   "cell_type": "code",
   "execution_count": 92,
   "metadata": {},
   "outputs": [
    {
     "name": "stdout",
     "output_type": "stream",
     "text": [
      "['#program for addition\\n', 'def sum(a,b): #function defination\\n', '    c=a+b\\n', '    print(c)  #print the output']\n",
      "['']\n",
      "['', 'def sum(a,b): ']\n",
      "['', 'def sum(a,b): ', '    c=a+b\\n']\n",
      "['', 'def sum(a,b): ', '    c=a+b\\n', '    print(c)  ']\n"
     ]
    }
   ],
   "source": [
    "#wap for addition\n",
    "f=open(\"addition.txt\",\"r\")\n",
    "f2=open(\"test.txt\",\"w\")\n",
    "data=f.readlines()\n",
    "data2=[]\n",
    "print(data)\n",
    "for i in data:\n",
    "    l=i.split(\"#\")\n",
    "    data2.append(l[0])\n",
    "    print(data2)\n",
    "f2.writelines(data2)\n",
    "f2.close()"
   ]
  },
  {
   "cell_type": "code",
   "execution_count": 3,
   "metadata": {},
   "outputs": [
    {
     "name": "stdout",
     "output_type": "stream",
     "text": [
      "xyzlo ðŸ‘‹ How are you2\n",
      "xyzlo ðŸ‘‹ How are you4\n",
      "xyzlo ðŸ‘‹ How are you6\n",
      "xyzlo ðŸ‘‹ How are you8\n",
      "xyzlo ðŸ‘‹ How are you10\n",
      "xyzlo ðŸ‘‹ How are You1\n",
      "xyzlo ðŸ‘‹ How are You3\n",
      "xyzlo ðŸ‘‹ How are You5\n",
      "xyzlo ðŸ‘‹ How are You7\n",
      "xyzlo ðŸ‘‹ How are You9\n",
      "\n",
      "Line: 1 Pos: 20\n",
      "Line: 1 Pos: 23\n",
      "Line: 2 Pos: 20\n",
      "Line: 2 Pos: 23\n",
      "Line: 3 Pos: 20\n",
      "Line: 3 Pos: 23\n",
      "Line: 4 Pos: 20\n",
      "Line: 4 Pos: 23\n",
      "Line: 5 Pos: 20\n",
      "Line: 5 Pos: 23\n",
      "Line: 5 Pos: 24\n"
     ]
    }
   ],
   "source": [
    "#wap to compare two files and find the difference in line and paragraph\n",
    "f=open(\"count.txt\",\"r\")\n",
    "f2=open(\"Text.txt\",\"r\")\n",
    "data=f.read()\n",
    "data2=f2.read()\n",
    "print(data)\n",
    "print(data2)\n",
    "a=b=1\n",
    "for i in range(len(data)):\n",
    "    if data[i]==data2[i]:\n",
    "        a+=1\n",
    "        if data[i]==\"\\n\":\n",
    "            b+=1\n",
    "            a=1\n",
    "    else:\n",
    "        print(\"Line:\",b,\"Pos:\",a)\n",
    "        a+=1\n",
    "f.close()\n",
    "f2.close()"
   ]
  },
  {
   "cell_type": "code",
   "execution_count": 15,
   "metadata": {},
   "outputs": [],
   "source": [
    "# #wap to replace word in file\n",
    "# f=open(\"count.txt\",\"r+\")\n",
    "# data=f.read()\n",
    "# d=input(\"Enter Data To Replace:\")\n",
    "# c=input(\"Enter Data:\")\n",
    "# for i in data:\n",
    "#     if d in data:\n",
    "#         data=data.replace(d,c)\n",
    "#     else:\n",
    "#         print(\"Data Not Present in File\")\n",
    "# print(data)"
   ]
  },
  {
   "cell_type": "code",
   "execution_count": 14,
   "metadata": {},
   "outputs": [
    {
     "name": "stdout",
     "output_type": "stream",
     "text": [
      "Enter Data To Replace:Hello\n",
      "Enter Data:How\n"
     ]
    }
   ],
   "source": [
    "#wap to replace word in file\n",
    "f=open(\"count.txt\",\"r\")\n",
    "data=f.read()\n",
    "f.close()\n",
    "\n",
    "d=input(\"Enter Data To Replace:\")\n",
    "c=input(\"Enter Data:\")\n",
    "data=data.replace(d,c)\n",
    "\n",
    "f=open(\"count.txt\",\"w\")\n",
    "f.write(data)\n",
    "f.close()\n"
   ]
  },
  {
   "cell_type": "code",
   "execution_count": 23,
   "metadata": {},
   "outputs": [
    {
     "name": "stdout",
     "output_type": "stream",
     "text": [
      "Words: 25 Character: 96 Space: 20\n"
     ]
    }
   ],
   "source": [
    "#wap to count words character and spaces from text file\n",
    "f=open(\"count.txt\",\"r\")\n",
    "data=f.read()\n",
    "s=data.split()\n",
    "y=len(data)-data.count(\" \")-data.count(\"\\n\")\n",
    "sp=data.count(\" \")\n",
    "print(\"Words:\",len(s),\"Character:\",y,\"Space:\",sp)"
   ]
  },
  {
   "cell_type": "code",
   "execution_count": 33,
   "metadata": {},
   "outputs": [
    {
     "name": "stdout",
     "output_type": "stream",
     "text": [
      "Paragraphs are the building blocks of papers. Many students define paragraphs in terms of length: a paragraph is a group of at least five sentences, a paragraph is half a page long, etc. \n",
      "\n",
      "\n",
      "In reality, though\n",
      "\n",
      ", the unit\n",
      "\n",
      "y and coherence of ideas among sentences is what constitutes a paragraph. A paragraph is defined as “a group of sentences or a single sentence that forms a unit” (Lunsford and Connors 116). \n",
      "\n"
     ]
    }
   ],
   "source": [
    "f=open(\"12.txt\",\"r\",encoding='utf-8')\n",
    "d=f.readline()\n",
    "d1=f.readline(18)\n",
    "ch=f.read(10)\n",
    "print(d)\n",
    "print()\n",
    "print(d1)\n",
    "print()\n",
    "print(ch)\n",
    "print()\n",
    "print(f.readline())"
   ]
  },
  {
   "cell_type": "code",
   "execution_count": 6,
   "metadata": {},
   "outputs": [
    {
     "name": "stdout",
     "output_type": "stream",
     "text": [
      "Enter Sentence:Hello\n",
      "Enter Sentence:How are you\n",
      "Enter Sentence:end\n",
      "Hello\n",
      "How are you\n"
     ]
    }
   ],
   "source": [
    "#wap to accept string or sentence from user till user enter end each string or sentence entered by user should be a new line in file save all lines file and display only those lines which begin with capital letter\n",
    "f=open(\"12.txt\",\"w+\")\n",
    "while f:\n",
    "    d=input(\"Enter Sentence:\")\n",
    "    if d.lower()==\"end\":\n",
    "        break\n",
    "    else :\n",
    "        f.write(d+\"\\n\")\n",
    "f.seek(0)\n",
    "for line in f:\n",
    "    if line[0].isupper():\n",
    "        print(line[:-1])\n",
    "f.close()"
   ]
  },
  {
   "cell_type": "code",
   "execution_count": 8,
   "metadata": {},
   "outputs": [
    {
     "name": "stdout",
     "output_type": "stream",
     "text": [
      "Enter String:How\n",
      "1\n"
     ]
    }
   ],
   "source": [
    "#wap to search for a sting in text file\n",
    "f=open(\"12.txt\",\"r\")\n",
    "a=input(\"Enter String:\")\n",
    "data=f.read()\n",
    "data=data.lower()\n",
    "c=data.count(a.lower())\n",
    "print(c)"
   ]
  },
  {
   "cell_type": "code",
   "execution_count": 23,
   "metadata": {},
   "outputs": [],
   "source": [
    "#wap to read line by line from a given files file1 and file2\n",
    "f=open(\"file1.txt\",\"r\")\n",
    "f1=open(\"file2.txt\",\"r\")\n",
    "f2=open(\"file3.txt\",\"w\")\n",
    "data=f.read()\n",
    "data1=f1.read()\n",
    "for i in range(len(data)):\n",
    "    if i<len(data):\n",
    "        f2.write(data[i])\n",
    "for j in range(len(data1)):\n",
    "    if j<len(data1):\n",
    "        f2.write(data1[j])\n",
    "f.close()\n",
    "f1.close()\n",
    "f2.close()"
   ]
  },
  {
   "cell_type": "code",
   "execution_count": 27,
   "metadata": {},
   "outputs": [],
   "source": [
    "#wap to read line by line from a given files file1 and file2\n",
    "f=open(\"file1.txt\",\"r\")\n",
    "f1=open(\"file2.txt\",\"r\")\n",
    "f2=open(\"file3.txt\",\"w\")\n",
    "data=f.readlines()\n",
    "data1=f1.readlines()\n",
    "l1=len(data)\n",
    "l2=len(data1)\n",
    "m=max(l1,l2)\n",
    "for i in range(m):\n",
    "    if i<l1:\n",
    "        f2.write(data[i])\n",
    "    if i<l2:\n",
    "        f2.write(data1[i])    \n",
    "f2.close()"
   ]
  },
  {
   "cell_type": "code",
   "execution_count": 37,
   "metadata": {},
   "outputs": [
    {
     "name": "stdout",
     "output_type": "stream",
     "text": [
      "['devam.sjskdwh\\n', 'Devam./kldwcjo\\n', 'DEVAM/,.cjlkd\\n']\n",
      "devam.sjskdwh\n",
      "\n"
     ]
    }
   ],
   "source": [
    "#wap to find longest word in the given text file\n",
    "f=open(\"Text2.txt\",\"r\")\n",
    "data=f.readlines()\n",
    "print(data)\n",
    "data1=max(data)\n",
    "print(data1)"
   ]
  },
  {
   "cell_type": "code",
   "execution_count": 44,
   "metadata": {},
   "outputs": [
    {
     "name": "stdout",
     "output_type": "stream",
     "text": [
      "The longest word is: Devam\n"
     ]
    }
   ],
   "source": [
    "with open(\"Text2.txt\", \"r\") as f:\n",
    "    data = f.read()\n",
    "sp = data.split()\n",
    "w = \"\"\n",
    "for i in sp:\n",
    "    if len(i) > len(w):\n",
    "        w =i\n",
    "print(\"The longest word is:\", w)\n"
   ]
  },
  {
   "cell_type": "code",
   "execution_count": null,
   "metadata": {},
   "outputs": [],
   "source": []
  }
 ],
 "metadata": {
  "kernelspec": {
   "display_name": "Python 3",
   "language": "python",
   "name": "python3"
  },
  "language_info": {
   "codemirror_mode": {
    "name": "ipython",
    "version": 3
   },
   "file_extension": ".py",
   "mimetype": "text/x-python",
   "name": "python",
   "nbconvert_exporter": "python",
   "pygments_lexer": "ipython3",
   "version": "3.8.5"
  }
 },
 "nbformat": 4,
 "nbformat_minor": 4
}
