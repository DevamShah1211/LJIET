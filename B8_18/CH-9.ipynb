{
 "cells": [
  {
   "cell_type": "markdown",
   "metadata": {},
   "source": [
    "# Advanced OOPS"
   ]
  },
  {
   "cell_type": "markdown",
   "metadata": {},
   "source": [
    "## Operator Overloading"
   ]
  },
  {
   "cell_type": "code",
   "execution_count": 3,
   "metadata": {},
   "outputs": [
    {
     "name": "stdout",
     "output_type": "stream",
     "text": [
      "(20, 5)\n",
      "(4, -1)\n",
      "(96, 6)\n",
      "(1.5, 0.6666666666666666)\n",
      "(1, 0)\n",
      "(4, 2)\n",
      "(429981696, 8)\n",
      "False\n",
      "False\n",
      "True\n",
      "True\n",
      "True\n",
      "False\n"
     ]
    }
   ],
   "source": [
    "class Rect:\n",
    "    def __init__(self, a, b):\n",
    "        self.x = a\n",
    "        self.y = b\n",
    "\n",
    "    def __add__(self, other):\n",
    "        return Rect(self.x + other.x, self.y + other.y)\n",
    "\n",
    "    def __sub__(self, other):\n",
    "        return Rect(self.x - other.x, self.y - other.y)\n",
    "\n",
    "    def __mul__(self, other):\n",
    "        return Rect(self.x * other.x, self.y * other.y)\n",
    "\n",
    "    def __truediv__(self, other):\n",
    "        return Rect(self.x / other.x, self.y / other.y)\n",
    "\n",
    "    def __floordiv__(self, other):\n",
    "        return Rect(self.x // other.x, self.y // other.y)\n",
    "\n",
    "    def __mod__(self, other):\n",
    "        return Rect(self.x % other.x, self.y % other.y)\n",
    "\n",
    "    def __pow__(self, other):\n",
    "        return Rect(self.x ** other.x, self.y ** other.y)\n",
    "\n",
    "    def __gt__(self, other):\n",
    "        return self.x * self.y > other.x * other.y\n",
    "\n",
    "    def __ge__(self, other):\n",
    "        return self.x * self.y >= other.x * other.y\n",
    "\n",
    "    def __lt__(self, other):\n",
    "        return self.x * self.y < other.x * other.y\n",
    "\n",
    "    def __le__(self, other):\n",
    "        return self.x * self.y <= other.x * other.y\n",
    "\n",
    "    def __eq__(self, other):\n",
    "        return self.x * self.y == other.x * other.y\n",
    "\n",
    "    def __ne__(self, other):\n",
    "        return self.x * self.y != other.x * other.y\n",
    "\n",
    "    def __str__(self):\n",
    "        return f\"({self.x}, {self.y})\"\n",
    "\n",
    "a = Rect(12, 2)\n",
    "b = Rect(8, 3)\n",
    "\n",
    "print(a + b)\n",
    "print(a - b)\n",
    "print(a * b)\n",
    "print(a / b)\n",
    "print(a // b)\n",
    "print(a % b)\n",
    "print(a ** b)\n",
    "print(a > b)\n",
    "print(a < b)\n",
    "print(a >= b)\n",
    "print(a <= b)\n",
    "print(a == b)\n",
    "print(a != b)\n"
   ]
  },
  {
   "cell_type": "markdown",
   "metadata": {},
   "source": [
    "## Hybrid Inheritance"
   ]
  },
  {
   "cell_type": "code",
   "execution_count": 5,
   "metadata": {},
   "outputs": [
    {
     "name": "stdout",
     "output_type": "stream",
     "text": [
      "Hello Parent1\n",
      "Hello Child1\n",
      "Hello Parent1\n",
      "Hello Parent2\n",
      "Hello Child1\n",
      "Hello child2\n"
     ]
    }
   ],
   "source": [
    "class parent1:\n",
    "    def func1(self):\n",
    "        print(\"Hello Parent1\")\n",
    "class parent2:\n",
    "    def func2(self):\n",
    "        print(\"Hello Parent2\")\n",
    "class child1(parent1):\n",
    "    def func3(self):\n",
    "        print(\"Hello Child1\")\n",
    "class child2(child1,parent2):\n",
    "    def func4(self):\n",
    "        print(\"Hello child2\")\n",
    "t1=child1()\n",
    "t2=child2()\n",
    "t1.func1()\n",
    "t1.func3()\n",
    "t2.func1()\n",
    "t2.func2()\n",
    "t2.func3()\n",
    "t2.func4()"
   ]
  },
  {
   "cell_type": "markdown",
   "metadata": {},
   "source": [
    "# Super()"
   ]
  },
  {
   "cell_type": "code",
   "execution_count": 7,
   "metadata": {},
   "outputs": [
    {
     "name": "stdout",
     "output_type": "stream",
     "text": [
      "10\n",
      "20\n",
      "45\n"
     ]
    }
   ],
   "source": [
    "class parent:\n",
    "    def __init__(self):\n",
    "        self.attr1=10\n",
    "        self.attr2=20\n",
    "class child(parent):\n",
    "    def __init__(self):\n",
    "        super().__init__()\n",
    "        self.attr3=45\n",
    "test=child()\n",
    "print(test.attr1)\n",
    "print(test.attr2)\n",
    "print(test.attr3)"
   ]
  },
  {
   "cell_type": "code",
   "execution_count": 9,
   "metadata": {},
   "outputs": [
    {
     "name": "stdout",
     "output_type": "stream",
     "text": [
      "class Child\n",
      "Hello Parent1\n",
      "None\n"
     ]
    }
   ],
   "source": [
    "class parent1:\n",
    "    def display(self):\n",
    "        print(\"Hello Parent1\")\n",
    "class child(parent1):\n",
    "    def display(self):\n",
    "        print(\"class Child\")\n",
    "        super().display()\n",
    "test=child()\n",
    "print(test.display())"
   ]
  },
  {
   "cell_type": "markdown",
   "metadata": {},
   "source": [
    "# issubclass()   & isinstance()"
   ]
  },
  {
   "cell_type": "code",
   "execution_count": 10,
   "metadata": {},
   "outputs": [
    {
     "name": "stdout",
     "output_type": "stream",
     "text": [
      "True\n",
      "False\n",
      "True\n",
      "True\n",
      "False\n",
      "True\n"
     ]
    }
   ],
   "source": [
    "class parent:\n",
    "    def func1(self):\n",
    "        print(\"Hello Parent\")\n",
    "class child(parent):\n",
    "    def func2(self):\n",
    "        print(\"Hello Child\")\n",
    "print(issubclass(child,parent))\n",
    "print(issubclass(parent,child))\n",
    "A=child()\n",
    "B=parent()\n",
    "print(isinstance(A,child))\n",
    "print(isinstance(A,parent))\n",
    "print(isinstance(B,child))\n",
    "print(isinstance(B,parent))"
   ]
  },
  {
   "cell_type": "markdown",
   "metadata": {},
   "source": [
    "# Method Resolution Order(MRO)"
   ]
  },
  {
   "cell_type": "code",
   "execution_count": 11,
   "metadata": {},
   "outputs": [
    {
     "name": "stdout",
     "output_type": "stream",
     "text": [
      "Class B\n",
      "[<class '__main__.D'>, <class '__main__.B'>, <class '__main__.C'>, <class '__main__.A'>, <class 'object'>]\n"
     ]
    }
   ],
   "source": [
    "class A:\n",
    "    def rk(self):\n",
    "        print(\"Class A\")\n",
    "class B(A):\n",
    "    def rk(self):\n",
    "        print(\"Class B\")\n",
    "class C(A):\n",
    "    def rk(self):\n",
    "        print(\"Class C\")\n",
    "class D(B,C):\n",
    "    pass\n",
    "r=D()\n",
    "r.rk()\n",
    "print(D.mro())"
   ]
  },
  {
   "cell_type": "code",
   "execution_count": 14,
   "metadata": {},
   "outputs": [
    {
     "name": "stdout",
     "output_type": "stream",
     "text": [
      "Bar from p2\n",
      "Foo From P1\n",
      "[<class '__main__.GC'>, <class '__main__.c1'>, <class '__main__.p1'>, <class '__main__.c2'>, <class '__main__.p2'>, <class 'object'>]\n"
     ]
    }
   ],
   "source": [
    "class p1:\n",
    "    def foo(self):\n",
    "        print(\"Foo From P1\")\n",
    "class p2:\n",
    "    def foo(self):\n",
    "        print(\"Foo From P2\")\n",
    "    def bar(self):\n",
    "        print(\"Bar from p2\")\n",
    "class c1(p1):\n",
    "    pass\n",
    "class c2(p2):\n",
    "    def foo(self):\n",
    "        print(\"Foo From c1\")\n",
    "class GC(c1,c2):\n",
    "    pass\n",
    "fc=GC()\n",
    "fc.bar()\n",
    "fc.foo()\n",
    "print(GC.mro())"
   ]
  },
  {
   "cell_type": "code",
   "execution_count": 1,
   "metadata": {},
   "outputs": [
    {
     "name": "stdout",
     "output_type": "stream",
     "text": [
      "Bar from p2\n",
      "Foo From P1\n",
      "[<class '__main__.GC'>, <class '__main__.c1'>, <class '__main__.p1'>, <class '__main__.c2'>, <class '__main__.p2'>, <class 'object'>]\n"
     ]
    }
   ],
   "source": [
    "class p1:\n",
    "    def foo(self):\n",
    "        print(\"Foo From P1\")\n",
    "class p2:\n",
    "    def foo(self):\n",
    "        print(\"Foo From P2\")\n",
    "    def bar(self):\n",
    "        print(\"Bar from p2\")\n",
    "class c1(p1,p2):\n",
    "    pass\n",
    "class c2(p2):\n",
    "    def foo(self):\n",
    "        print(\"Foo From c1\")\n",
    "class GC(c1,c2):\n",
    "    pass\n",
    "fc=GC()\n",
    "fc.bar()\n",
    "fc.foo()\n",
    "print(GC.mro())"
   ]
  },
  {
   "cell_type": "code",
   "execution_count": 2,
   "metadata": {},
   "outputs": [
    {
     "name": "stdout",
     "output_type": "stream",
     "text": [
      "Drawing A Circle\n"
     ]
    }
   ],
   "source": [
    "from abc import ABC,abstractmethod\n",
    "class shape(ABC):\n",
    "    def __init__(self,shape_name):\n",
    "        self.shape_name=shape_name\n",
    "    @abstractmethod\n",
    "    def draw(self):\n",
    "        pass\n",
    "class circle(shape):\n",
    "    def __init__(self):\n",
    "        super().__init__(\"Circle\")\n",
    "    def draw(self):\n",
    "        print(\"Drawing A Circle\")\n",
    "c=circle()\n",
    "c.draw()"
   ]
  },
  {
   "cell_type": "code",
   "execution_count": 4,
   "metadata": {},
   "outputs": [
    {
     "name": "stdout",
     "output_type": "stream",
     "text": [
      "[<class '__main__.p'>, <class '__main__.x'>, <class '__main__.A'>, <class '__main__.y'>, <class '__main__.B'>, <class '__main__.C'>, <class 'object'>]\n"
     ]
    }
   ],
   "source": [
    "class A:\n",
    "    def rk(self):\n",
    "        print(\"Class A\")\n",
    "class B:\n",
    "    def rk(self):\n",
    "        print(\"Class B\")\n",
    "class C:\n",
    "    def rk(self):\n",
    "        print(\"Class C\")\n",
    "class x(A,B):\n",
    "    def rk(self):\n",
    "        print(\"Class X\")\n",
    "class y(B,C):\n",
    "    def rk(self):\n",
    "        print(\"Class Y\")\n",
    "class p(x,y,C):\n",
    "    def rk(self):\n",
    "        pass\n",
    "        print(\"Class A\")\n",
    "r=p()\n",
    "print(p.mro())"
   ]
  },
  {
   "cell_type": "code",
   "execution_count": 9,
   "metadata": {},
   "outputs": [
    {
     "name": "stdout",
     "output_type": "stream",
     "text": [
      "[<class '__main__.z'>, <class '__main__.k1'>, <class '__main__.C'>, <class '__main__.k2'>, <class '__main__.k3'>, <class '__main__.A'>, <class '__main__.B'>, <class '__main__.D'>, <class '__main__.E'>, <class 'object'>]\n"
     ]
    }
   ],
   "source": [
    "class A:\n",
    "    pass\n",
    "class B:\n",
    "    pass\n",
    "class C:\n",
    "    pass\n",
    "class D:\n",
    "    pass\n",
    "class E:\n",
    "    pass\n",
    "class k1(C,A,B):\n",
    "    pass\n",
    "class k3(A,D):\n",
    "    pass\n",
    "class k2(B,D,E):\n",
    "    pass\n",
    "class z(k1,k2,k3):\n",
    "    pass\n",
    "print(z.mro())"
   ]
  },
  {
   "cell_type": "code",
   "execution_count": 3,
   "metadata": {},
   "outputs": [
    {
     "name": "stdout",
     "output_type": "stream",
     "text": [
      "Enter Book Nameasasdasdasd\n",
      "Enter Number of authors1\n",
      "Enter Name of Author['asdasd']\n",
      "Enter Publisher Name:asd\n",
      "Enter ISDN Number:12\n",
      "Enter Year2024\n",
      "Name Of Book: asasdasdasd\n",
      "Number Of Authors: 1\n",
      "Name Of Author: ['asdasd']\n",
      "Publisher Name: asd\n",
      "ISDN Number: 12\n",
      "Year: 2024\n",
      "Course: PYTHON\n"
     ]
    }
   ],
   "source": [
    "#implement the following hirerchy create class book which has parameters \n",
    "#bookname, number of authers, name of author(list of authors), publisher, isdn number, year and the \n",
    "#derived class is coursebook which have course as its data member the derived class method overrides the method of base class\n",
    "\n",
    "class book:\n",
    "    def __init__(self):\n",
    "        self.bookname=input(\"Enter Book Name\")\n",
    "        self.noofauth=int(input(\"Enter Number of authors\"))\n",
    "        self.nameofauth=eval(input(\"Enter Name of Author\"))\n",
    "        self.publisher=input(\"Enter Publisher Name:\")\n",
    "        self.isdn_no=int(input(\"Enter ISDN Number:\"))\n",
    "        self.year=int(input(\"Enter Year\"))\n",
    "    def display(self):\n",
    "        print(\"Name Of Book:\",self.bookname)\n",
    "        print(\"Number Of Authors:\",self.noofauth)\n",
    "        print(\"Name Of Author:\",self.nameofauth)\n",
    "        print(\"Publisher Name:\",self.publisher)\n",
    "        print(\"ISDN Number:\",self.isdn_no)\n",
    "        print(\"Year:\",self.year)\n",
    "class coursebook(book):\n",
    "    def __init__(self,course):\n",
    "        super().__init__()\n",
    "        self.course=course\n",
    "    \n",
    "    def display(self):\n",
    "        super().display()\n",
    "        print(\"Course:\",self.course)\n",
    "        \n",
    "b=coursebook(\"PYTHON\")\n",
    "b.display()\n",
    "\n",
    "        "
   ]
  },
  {
   "cell_type": "code",
   "execution_count": 7,
   "metadata": {},
   "outputs": [
    {
     "name": "stdout",
     "output_type": "stream",
     "text": [
      "Name Of Book: PYTHON\n",
      "Number Of Authors: 2\n",
      "Name Of Author(s): ['Devam', 'Aagam']\n",
      "Publisher Name: Aagam\n",
      "ISDN Number: 1234\n",
      "Year: 2024\n",
      "Course: Python Programming\n"
     ]
    }
   ],
   "source": [
    "#implement the following hirerchy create class book which has parameters \n",
    "#bookname, number of authers, name of author(list of authors), publisher, isdn number, year and the \n",
    "#derived class is coursebook which have course as its data member the derived class method overrides the method of base class\n",
    "\n",
    "class book:\n",
    "    def __init__(self, bookname, noofauth, nameofauth, publisher, isdn_no, year):\n",
    "        self.bookname = bookname\n",
    "        self.noofauth = noofauth\n",
    "        self.nameofauth = nameofauth\n",
    "        self.publisher = publisher\n",
    "        self.isdn_no = isdn_no\n",
    "        self.year = year\n",
    "\n",
    "    def display(self):\n",
    "        print(\"Name Of Book:\", self.bookname)\n",
    "        print(\"Number Of Authors:\", self.noofauth)\n",
    "        print(\"Name Of Author(s):\", self.nameofauth)\n",
    "        print(\"Publisher Name:\", self.publisher)\n",
    "        print(\"ISDN Number:\", self.isdn_no)\n",
    "        print(\"Year:\", self.year)\n",
    "\n",
    "class coursebook(book):\n",
    "    def __init__(self, bookname, noofauth, nameofauth, publisher, isdn_no, year, course):\n",
    "        super().__init__(bookname, noofauth, nameofauth, publisher, isdn_no, year)\n",
    "        self.course = course\n",
    "\n",
    "    def display(self):\n",
    "        super().display()\n",
    "        print(\"Course:\", self.course)\n",
    "\n",
    "b1 = book(\"PYTHON\", 2, [\"Devam\", \"Aagam\"], \"Aagam\", 1234, 2024)\n",
    "cb = coursebook(\"PYTHON\", 2, [\"Devam\", \"Aagam\"], \"Aagam\", 1234, 2024, \"Python Programming\")\n",
    "cb.display()\n"
   ]
  },
  {
   "cell_type": "code",
   "execution_count": 16,
   "metadata": {},
   "outputs": [
    {
     "name": "stdout",
     "output_type": "stream",
     "text": [
      "Enter Name:bus\n",
      "Enter Mileage10\n",
      "Enter Seating Capacity:50\n",
      "Fare is: 5500.0\n"
     ]
    }
   ],
   "source": [
    "#wap to create bus child class that inherits from the vehicle class in which class vehicle name mileage and siting capasity \n",
    "#as data member the default fare charge of any vehicle is sittingcapacity*100,we need to add an extra 10% as an maintainance \n",
    "#charge for fare change for bus instance will become final fare+10% of total fare\n",
    "\n",
    "class vehicle:\n",
    "    def __init__(self):\n",
    "        self.name=input(\"Enter Name:\")\n",
    "        self.mileage=int(input(\"Enter Mileage\"))\n",
    "        self.capacity=int(input(\"Enter Seating Capacity:\"))\n",
    "    def calculate_fare(self):\n",
    "        self.fare=self.capacity*100\n",
    "        return self.fare\n",
    "class bus(vehicle):\n",
    "    def __init__(self):\n",
    "        super().__init__()\n",
    "    def calculate_fare(self):\n",
    "        base_fare=super().calculate_fare()\n",
    "        final_fare=base_fare+(0.1*base_fare)\n",
    "        return final_fare\n",
    "bus1=bus()\n",
    "fare=bus1.calculate_fare()\n",
    "print(\"Fare is:\",fare)"
   ]
  },
  {
   "cell_type": "code",
   "execution_count": 10,
   "metadata": {},
   "outputs": [
    {
     "ename": "TypeError",
     "evalue": "unsupported operand type(s) for *: 'float' and 'NoneType'",
     "output_type": "error",
     "traceback": [
      "\u001b[1;31m---------------------------------------------------------------------------\u001b[0m",
      "\u001b[1;31mTypeError\u001b[0m                                 Traceback (most recent call last)",
      "\u001b[1;32m<ipython-input-10-e69226366a8a>\u001b[0m in \u001b[0;36m<module>\u001b[1;34m\u001b[0m\n\u001b[0;32m     18\u001b[0m         \u001b[1;32mreturn\u001b[0m \u001b[0mfinal_fare\u001b[0m\u001b[1;33m\u001b[0m\u001b[1;33m\u001b[0m\u001b[0m\n\u001b[0;32m     19\u001b[0m \u001b[0mbus1\u001b[0m\u001b[1;33m=\u001b[0m\u001b[0mbus\u001b[0m\u001b[1;33m(\u001b[0m\u001b[1;34m\"Bus\"\u001b[0m\u001b[1;33m,\u001b[0m\u001b[1;36m10\u001b[0m\u001b[1;33m,\u001b[0m\u001b[1;36m50\u001b[0m\u001b[1;33m)\u001b[0m\u001b[1;33m\u001b[0m\u001b[1;33m\u001b[0m\u001b[0m\n\u001b[1;32m---> 20\u001b[1;33m \u001b[0mfare\u001b[0m\u001b[1;33m=\u001b[0m\u001b[0mbus1\u001b[0m\u001b[1;33m.\u001b[0m\u001b[0mcalculate_fare\u001b[0m\u001b[1;33m(\u001b[0m\u001b[1;33m)\u001b[0m\u001b[1;33m\u001b[0m\u001b[1;33m\u001b[0m\u001b[0m\n\u001b[0m\u001b[0;32m     21\u001b[0m \u001b[0mprint\u001b[0m\u001b[1;33m(\u001b[0m\u001b[1;34m\"Fare is:\"\u001b[0m\u001b[1;33m,\u001b[0m\u001b[0mfare\u001b[0m\u001b[1;33m)\u001b[0m\u001b[1;33m\u001b[0m\u001b[1;33m\u001b[0m\u001b[0m\n",
      "\u001b[1;32m<ipython-input-10-e69226366a8a>\u001b[0m in \u001b[0;36mcalculate_fare\u001b[1;34m(self)\u001b[0m\n\u001b[0;32m     15\u001b[0m     \u001b[1;32mdef\u001b[0m \u001b[0mcalculate_fare\u001b[0m\u001b[1;33m(\u001b[0m\u001b[0mself\u001b[0m\u001b[1;33m)\u001b[0m\u001b[1;33m:\u001b[0m\u001b[1;33m\u001b[0m\u001b[1;33m\u001b[0m\u001b[0m\n\u001b[0;32m     16\u001b[0m         \u001b[0mbase_fare\u001b[0m\u001b[1;33m=\u001b[0m\u001b[0msuper\u001b[0m\u001b[1;33m(\u001b[0m\u001b[1;33m)\u001b[0m\u001b[1;33m.\u001b[0m\u001b[0mfare\u001b[0m\u001b[1;33m(\u001b[0m\u001b[1;33m)\u001b[0m\u001b[1;33m\u001b[0m\u001b[1;33m\u001b[0m\u001b[0m\n\u001b[1;32m---> 17\u001b[1;33m         \u001b[0mfinal_fare\u001b[0m\u001b[1;33m=\u001b[0m\u001b[0mbase_fare\u001b[0m\u001b[1;33m+\u001b[0m\u001b[1;33m(\u001b[0m\u001b[1;36m0.1\u001b[0m\u001b[1;33m*\u001b[0m\u001b[0mbase_fare\u001b[0m\u001b[1;33m)\u001b[0m\u001b[1;33m\u001b[0m\u001b[1;33m\u001b[0m\u001b[0m\n\u001b[0m\u001b[0;32m     18\u001b[0m         \u001b[1;32mreturn\u001b[0m \u001b[0mfinal_fare\u001b[0m\u001b[1;33m\u001b[0m\u001b[1;33m\u001b[0m\u001b[0m\n\u001b[0;32m     19\u001b[0m \u001b[0mbus1\u001b[0m\u001b[1;33m=\u001b[0m\u001b[0mbus\u001b[0m\u001b[1;33m(\u001b[0m\u001b[1;34m\"Bus\"\u001b[0m\u001b[1;33m,\u001b[0m\u001b[1;36m10\u001b[0m\u001b[1;33m,\u001b[0m\u001b[1;36m50\u001b[0m\u001b[1;33m)\u001b[0m\u001b[1;33m\u001b[0m\u001b[1;33m\u001b[0m\u001b[0m\n",
      "\u001b[1;31mTypeError\u001b[0m: unsupported operand type(s) for *: 'float' and 'NoneType'"
     ]
    }
   ],
   "source": [
    "#wap to create bus child class that inherits from the vehicle class in which class vehicle name mileage and siting capasity \n",
    "#as data member the default fare charge of any vehicle is sittingcapacity*100,we need to add an extra 10% as an maintainance \n",
    "#charge for fare change for bus instance will become final fare+10% of total fare\n",
    "\n",
    "class vehicle:\n",
    "    def __init__(self,name,mileage,capacity):\n",
    "        self.name=name\n",
    "        self.mileage=mileage\n",
    "        self.capacity=capacity\n",
    "    def fare(self):\n",
    "        self.fare=self.capacity*100\n",
    "class bus(vehicle):\n",
    "    def __init__(self,name,mileage,capacity):\n",
    "        super().__init__(name,mileage,capacity)\n",
    "    def calculate_fare(self):\n",
    "        base_fare=super().fare()\n",
    "        final_fare=base_fare+(0.1*base_fare)\n",
    "        return final_fare\n",
    "bus1=bus(\"Bus\",10,50)\n",
    "fare=bus1.calculate_fare()\n",
    "print(\"Fare is:\",fare)"
   ]
  },
  {
   "cell_type": "code",
   "execution_count": 31,
   "metadata": {},
   "outputs": [
    {
     "ename": "AttributeError",
     "evalue": "'super' object has no attribute 'self'",
     "output_type": "error",
     "traceback": [
      "\u001b[1;31m---------------------------------------------------------------------------\u001b[0m",
      "\u001b[1;31mAttributeError\u001b[0m                            Traceback (most recent call last)",
      "\u001b[1;32m<ipython-input-31-a4b34b42f9d3>\u001b[0m in \u001b[0;36m<module>\u001b[1;34m\u001b[0m\n\u001b[0;32m     49\u001b[0m         \u001b[0mprint\u001b[0m\u001b[1;33m(\u001b[0m\u001b[1;34m\"Employee Total Salary\"\u001b[0m\u001b[1;33m,\u001b[0m\u001b[0msuper\u001b[0m\u001b[1;33m(\u001b[0m\u001b[1;33m)\u001b[0m\u001b[1;33m.\u001b[0m\u001b[0mself\u001b[0m\u001b[1;33m.\u001b[0m\u001b[0mns\u001b[0m\u001b[1;33m)\u001b[0m\u001b[1;33m\u001b[0m\u001b[1;33m\u001b[0m\u001b[0m\n\u001b[0;32m     50\u001b[0m \u001b[0memp\u001b[0m\u001b[1;33m=\u001b[0m\u001b[0mnet_salary\u001b[0m\u001b[1;33m(\u001b[0m\u001b[1;36m101\u001b[0m\u001b[1;33m,\u001b[0m\u001b[1;34m\"Devam\"\u001b[0m\u001b[1;33m,\u001b[0m\u001b[1;36m20000000\u001b[0m\u001b[1;33m)\u001b[0m\u001b[1;33m\u001b[0m\u001b[1;33m\u001b[0m\u001b[0m\n\u001b[1;32m---> 51\u001b[1;33m \u001b[0memp\u001b[0m\u001b[1;33m.\u001b[0m\u001b[0mdisplay\u001b[0m\u001b[1;33m(\u001b[0m\u001b[1;33m)\u001b[0m\u001b[1;33m\u001b[0m\u001b[1;33m\u001b[0m\u001b[0m\n\u001b[0m",
      "\u001b[1;32m<ipython-input-31-a4b34b42f9d3>\u001b[0m in \u001b[0;36mdisplay\u001b[1;34m(self)\u001b[0m\n\u001b[0;32m     41\u001b[0m         \u001b[0mprint\u001b[0m\u001b[1;33m(\u001b[0m\u001b[1;34m\"Total Salary:\"\u001b[0m\u001b[1;33m,\u001b[0m\u001b[0msuper\u001b[0m\u001b[1;33m(\u001b[0m\u001b[1;33m)\u001b[0m\u001b[1;33m.\u001b[0m\u001b[0mself\u001b[0m\u001b[1;33m.\u001b[0m\u001b[0mns\u001b[0m\u001b[1;33m)\u001b[0m\u001b[1;33m\u001b[0m\u001b[1;33m\u001b[0m\u001b[0m\n\u001b[0;32m     42\u001b[0m     \u001b[1;32mdef\u001b[0m \u001b[0mdisplay\u001b[0m\u001b[1;33m(\u001b[0m\u001b[0mself\u001b[0m\u001b[1;33m)\u001b[0m\u001b[1;33m:\u001b[0m\u001b[1;33m\u001b[0m\u001b[1;33m\u001b[0m\u001b[0m\n\u001b[1;32m---> 43\u001b[1;33m         \u001b[0mprint\u001b[0m\u001b[1;33m(\u001b[0m\u001b[1;34m\"Employee ID\"\u001b[0m\u001b[1;33m,\u001b[0m\u001b[0msuper\u001b[0m\u001b[1;33m(\u001b[0m\u001b[1;33m)\u001b[0m\u001b[1;33m.\u001b[0m\u001b[0mself\u001b[0m\u001b[1;33m.\u001b[0m\u001b[0memp_id\u001b[0m\u001b[1;33m)\u001b[0m\u001b[1;33m\u001b[0m\u001b[1;33m\u001b[0m\u001b[0m\n\u001b[0m\u001b[0;32m     44\u001b[0m         \u001b[0mprint\u001b[0m\u001b[1;33m(\u001b[0m\u001b[1;34m\"Employee Name\"\u001b[0m\u001b[1;33m,\u001b[0m\u001b[0mself\u001b[0m\u001b[1;33m.\u001b[0m\u001b[0memp_name\u001b[0m\u001b[1;33m)\u001b[0m\u001b[1;33m\u001b[0m\u001b[1;33m\u001b[0m\u001b[0m\n\u001b[0;32m     45\u001b[0m         \u001b[0mprint\u001b[0m\u001b[1;33m(\u001b[0m\u001b[1;34m\"Employee Salary\"\u001b[0m\u001b[1;33m,\u001b[0m\u001b[0msuper\u001b[0m\u001b[1;33m(\u001b[0m\u001b[1;33m)\u001b[0m\u001b[1;33m.\u001b[0m\u001b[0mself\u001b[0m\u001b[1;33m.\u001b[0m\u001b[0memp_salary\u001b[0m\u001b[1;33m)\u001b[0m\u001b[1;33m\u001b[0m\u001b[1;33m\u001b[0m\u001b[0m\n",
      "\u001b[1;31mAttributeError\u001b[0m: 'super' object has no attribute 'self'"
     ]
    }
   ],
   "source": [
    "#wap to find the net salary of employ using inheritance create 3 classes employee ,perks,net salary \n",
    "#make employee class as an abstract class employee class have 4 method 1st get employee , \n",
    "#which takes user input for id,name,basic salary 2nd method name is employee details  which print id name and basic salary  \n",
    "#3rd method name is get salary which returns the basic salary  and 4th  is employee id make this as abstract method\n",
    "\n",
    "from abc import ABC,abstractmethod\n",
    "class employee(ABC):\n",
    "    def __init__(self,emp_id,emp_name,emp_salary):\n",
    "        self.emp_id=emp_id\n",
    "        self.emp_name=emp_name\n",
    "        self.emp_salary=emp_salary\n",
    "    @abstractmethod\n",
    "    def emp_id(self):\n",
    "        pass\n",
    "    def getemployee(self):\n",
    "        self.emp_name=input(\"Enter Employee Name:\")\n",
    "        self.emp_salary=int(input(\"Enter Employee Salary:\"))\n",
    "    def empdetail(self):\n",
    "        print(\"Employee Id:\",self.emp_id)\n",
    "        print(\"Employee Name:\",self.emp_name)\n",
    "    def getsalary(self):\n",
    "         print(\"Employee Salary:\",self.emp_salary)\n",
    "class perks(employee):\n",
    "    def calcperks(self):\n",
    "        self.DA=super().self.emp_salary()+(super().self.emp_salary*0.35)\n",
    "        self.HRA=super().self.emp_salary()+(super().self.emp_salary*0.17)\n",
    "        self.PF=super().self.emp_salary()+(super().self.emp_salary*0.12)\n",
    "    def perks(self):\n",
    "        self.empdetail()\n",
    "        print(\"Dearance Allowance:\",self.DA)\n",
    "        print(\"Human Resource Allowance:\",self.HRA)\n",
    "        print(\"Provident Fund:\",self.PF)\n",
    "    def total_perks(self):\n",
    "        self.tot_perks=self.DA+self.HRA+self.PF\n",
    "    def emp_id(self):\n",
    "        pass\n",
    "class net_salary(perks):\n",
    "    def gettotal(self):\n",
    "        self.tot_perks()\n",
    "        self.ns=self.emp_salary()+self.total_perks()\n",
    "        print(\"Total Salary:\",super().self.ns)\n",
    "    def display(self):\n",
    "        print(\"Employee ID\",super().self.emp_id)\n",
    "        print(\"Employee Name\",self.emp_name)\n",
    "        print(\"Employee Salary\",super().self.emp_salary)\n",
    "        print(\"Dearness Allowance:\",super().self.DA)\n",
    "        print(\"Human Resource Allowance:\",super().self.HRA)\n",
    "        print(\"Provident Fund:\",super().self.PF)\n",
    "        print(\"Employee Total Salary\",super().self.ns)\n",
    "emp=net_salary(101,\"Devam\",20000000)\n",
    "emp.display()"
   ]
  },
  {
   "cell_type": "code",
   "execution_count": 27,
   "metadata": {},
   "outputs": [
    {
     "name": "stdout",
     "output_type": "stream",
     "text": [
      "Enter employee ID: 101\n",
      "Enter employee name: Devam\n",
      "Enter employee's base salary: 12020202\n",
      "DA is: 4207070.7\n",
      "HRA is: 2043434.34\n",
      "PF is: 1442424.24\n",
      "total perks are: 4808080.8\n",
      "total salary is: 16828282.8\n"
     ]
    },
    {
     "data": {
      "text/plain": [
       "16828282.8"
      ]
     },
     "execution_count": 27,
     "metadata": {},
     "output_type": "execute_result"
    }
   ],
   "source": [
    "from abc import ABC, abstractmethod\n",
    "\n",
    "class Employee(ABC):\n",
    "    def getEmployee(self):\n",
    "        self.id = int(input(\"Enter employee ID: \"))\n",
    "        self.name = input(\"Enter employee name: \")\n",
    "        self.salary = int(input(\"Enter employee's base salary: \")) \n",
    "        \n",
    "    def employeeDetails(self):\n",
    "        return (self.id, self.name, self.salary)\n",
    "    \n",
    "    def getSalary(self):\n",
    "        return self.salary\n",
    "    \n",
    "    @abstractmethod\n",
    "    def employeeId(self):\n",
    "        pass\n",
    "\n",
    "class Perks(Employee):\n",
    "    def calcPerks(self):\n",
    "        self.DA = 0.35 * self.salary  \n",
    "        self.HRA = 0.17 * self.salary \n",
    "        self.PF = 0.12 * self.salary \n",
    "        \n",
    "        return self.DA + self.HRA - self.PF\n",
    "\n",
    "    def printPerks(self):\n",
    "        print(\"DA is:\", self.DA)\n",
    "        print(\"HRA is:\", self.HRA)\n",
    "        print(\"PF is:\", self.PF)\n",
    "        \n",
    "    def totalPerks(self):\n",
    "        total_perks = self.DA + self.HRA - self.PF\n",
    "        print(\"total perks are:\", total_perks)\n",
    "        return total_perks\n",
    "        \n",
    "    def employeeId(self):\n",
    "\n",
    "        return self.id\n",
    "\n",
    "class NetSalary(Perks):\n",
    "    def getTotal(self):\n",
    "        total_salary = self.salary + self.totalPerks()\n",
    "        print(\"total salary is:\", total_salary)\n",
    "        return total_salary\n",
    "\n",
    "employee = NetSalary()\n",
    "\n",
    "employee.getEmployee()\n",
    "employee.calcPerks()\n",
    "employee.printPerks()\n",
    "employee.getTotal()\n"
   ]
  },
  {
   "cell_type": "code",
   "execution_count": 33,
   "metadata": {},
   "outputs": [
    {
     "name": "stdout",
     "output_type": "stream",
     "text": [
      "RAM Price: ₹10000\n",
      "Printer Price: ₹15000\n",
      "Hard Disk Price: ₹20000\n",
      "Do you want to purchase RAM? (yes/no): yes\n",
      "Do you want to purchase Printer? (yes/no): yes\n",
      "Do you want to purchase Hard Disk? (yes/no): yes\n",
      "Total Amount: ₹45000\n",
      "Choose a payment method (Cheque/Cash): cash\n",
      "Total amount to be paid: ₹45000\n",
      "Payment will be made with the following notes:\n",
      "₹2000 notes: 22\n",
      "₹500 notes: 2\n",
      "Cash payment completed successfully.\n"
     ]
    }
   ],
   "source": [
    "class ElectronicsStore:\n",
    "    def __init__(self, ram_price, printer_price, harddisk_price):\n",
    "        self.ram_price = ram_price\n",
    "        self.printer_price = printer_price\n",
    "        self.harddisk_price = harddisk_price\n",
    "\n",
    "    def display_prices(self):\n",
    "        print(f\"RAM Price: ₹{self.ram_price}\")\n",
    "        print(f\"Printer Price: ₹{self.printer_price}\")\n",
    "        print(f\"Hard Disk Price: ₹{self.harddisk_price}\")\n",
    "    \n",
    "    def total_amount(self, total):\n",
    "        print(f\"Total Amount: ₹{total}\")\n",
    "\n",
    "    def prompt_purchase(self):\n",
    "        total = 0\n",
    "        if input(\"Do you want to purchase RAM? (yes/no): \").strip().lower() == \"yes\":\n",
    "            total += self.ram_price\n",
    "        if input(\"Do you want to purchase Printer? (yes/no): \").strip().lower() == \"yes\":\n",
    "            total += self.printer_price\n",
    "        if input(\"Do you want to purchase Hard Disk? (yes/no): \").strip().lower() == \"yes\":\n",
    "            total += self.harddisk_price\n",
    "        \n",
    "        if total > 0:\n",
    "            self.total_amount(total)\n",
    "            self.prompt_payment(total)\n",
    "        else:\n",
    "            print(\"You did not select any items to purchase.\")\n",
    "\n",
    "    def prompt_payment(self, total):\n",
    "        payment_method = input(\"Choose a payment method (Cheque/Cash): \").strip().lower()\n",
    "        if payment_method == \"cash\":\n",
    "            self.calculate_cash_payment(total)\n",
    "        elif payment_method == \"cheque\":\n",
    "            print(\"Payment via Cheque selected. No further calculation needed.\")\n",
    "        else:\n",
    "            print(\"Invalid payment method selected.\")\n",
    "\n",
    "    def calculate_cash_payment(self, total):\n",
    "        denominations = [2000,500]\n",
    "        notes = {}\n",
    "\n",
    "        print(f\"Total amount to be paid: ₹{total}\")\n",
    "        \n",
    "        remaining_amount = total\n",
    "        for denom in denominations:\n",
    "            if remaining_amount >= denom:\n",
    "                note_count = remaining_amount // denom\n",
    "                remaining_amount = remaining_amount % denom\n",
    "                notes[denom] = note_count\n",
    "\n",
    "        print(\"Payment will be made with the following notes:\")\n",
    "        for denom, count in notes.items():\n",
    "            print(f\"₹{denom} notes: {count}\")\n",
    "        \n",
    "        if remaining_amount > 0:\n",
    "            print(f\"Remaining amount to be paid: ₹{remaining_amount}\")\n",
    "        else:\n",
    "            print(\"Cash payment completed successfully.\")\n",
    "\n",
    "store = ElectronicsStore(10000, 15000, 20000) \n",
    "store.display_prices()\n",
    "store.prompt_purchase()\n"
   ]
  },
  {
   "cell_type": "code",
   "execution_count": null,
   "metadata": {},
   "outputs": [],
   "source": [
    "class bill:\n",
    "        d1={\"HDD\":5000,\"Ram\":2000,\"Printer\":6000,\"Pendrive\":800}\n",
    "        d2={\"HDD\",0,\"Ram\":0,\"Printer\":0,\"Pendrive\":0}\n",
    "    for i,j in d2.d1():\n",
    "        print(i,j)\n",
    "        c=input(\"Want this item yes/no\").lower()\n",
    "        if c==\"y\":\n",
    "             d2[i]=int(input(\"Enter Number \"+i+\"S\")).d1[i]\n",
    "        print()\n",
    "def __init__(self):\n",
    "        "
   ]
  }
 ],
 "metadata": {
  "kernelspec": {
   "display_name": "Python 3",
   "language": "python",
   "name": "python3"
  },
  "language_info": {
   "codemirror_mode": {
    "name": "ipython",
    "version": 3
   },
   "file_extension": ".py",
   "mimetype": "text/x-python",
   "name": "python",
   "nbconvert_exporter": "python",
   "pygments_lexer": "ipython3",
   "version": "3.8.5"
  }
 },
 "nbformat": 4,
 "nbformat_minor": 4
}
