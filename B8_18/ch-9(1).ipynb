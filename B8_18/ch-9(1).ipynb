{
 "cells": [
  {
   "cell_type": "markdown",
   "metadata": {},
   "source": [
    "# polymorphism\n"
   ]
  },
  {
   "cell_type": "code",
   "execution_count": null,
   "metadata": {},
   "outputs": [],
   "source": []
  },
  {
   "cell_type": "code",
   "execution_count": null,
   "metadata": {},
   "outputs": [],
   "source": [
    "#method overloading\n",
    "class shape:\n",
    "    def area(self,a):\n",
    "        return 314*a*a\n",
    "    def area(self,a,b):\n",
    "        return a*b\n",
    "s=shape()\n",
    "print(s.area(3,4))\n",
    "print(s.area(1))"
   ]
  },
  {
   "cell_type": "code",
   "execution_count": null,
   "metadata": {},
   "outputs": [],
   "source": [
    "#method overriding\n",
    "class add:\n",
    "    def result(self,a,b):\n",
    "        print(\"addition\",a+b)\n",
    "class multi(add):\n",
    "    def result(self,a,b):\n",
    "        print(\"multiplication\",a*b)\n",
    "        \n",
    "        \n",
    "m=multi()\n",
    "m.result(10,20)\n",
    "m=add()\n",
    "m.result(10,20)\n",
    "        "
   ]
  },
  {
   "cell_type": "code",
   "execution_count": null,
   "metadata": {},
   "outputs": [],
   "source": [
    "\n",
    "class add:\n",
    "    def result(self,a,b):\n",
    "        print(\"addition\",a+b)\n",
    "class multi(add):\n",
    "    def result(self,a,b):\n",
    "        print(\"multiplication\",a*b)\n",
    "        super().result(10,20)\n",
    "        \n",
    "m=multi()\n",
    "m.result(10,20)\n",
    "m=add()\n",
    "m.result(40,20)    "
   ]
  },
  {
   "cell_type": "code",
   "execution_count": 1,
   "metadata": {},
   "outputs": [
    {
     "name": "stdout",
     "output_type": "stream",
     "text": [
      "first function of A class\n",
      "first function of B class\n",
      "second function of B class\n"
     ]
    },
    {
     "ename": "AttributeError",
     "evalue": "'B' object has no attribute 'display'",
     "output_type": "error",
     "traceback": [
      "\u001b[1;31m---------------------------------------------------------------------------\u001b[0m",
      "\u001b[1;31mAttributeError\u001b[0m                            Traceback (most recent call last)",
      "\u001b[1;32m<ipython-input-1-4bae90467288>\u001b[0m in \u001b[0;36m<module>\u001b[1;34m\u001b[0m\n\u001b[0;32m     15\u001b[0m \u001b[0mobj\u001b[0m\u001b[1;33m.\u001b[0m\u001b[0mfirst\u001b[0m\u001b[1;33m(\u001b[0m\u001b[1;33m)\u001b[0m\u001b[1;33m\u001b[0m\u001b[1;33m\u001b[0m\u001b[0m\n\u001b[0;32m     16\u001b[0m \u001b[0mobj\u001b[0m\u001b[1;33m.\u001b[0m\u001b[0msecond\u001b[0m\u001b[1;33m(\u001b[0m\u001b[1;33m)\u001b[0m\u001b[1;33m\u001b[0m\u001b[1;33m\u001b[0m\u001b[0m\n\u001b[1;32m---> 17\u001b[1;33m \u001b[0mobj\u001b[0m\u001b[1;33m.\u001b[0m\u001b[0mdisplay\u001b[0m\u001b[1;33m(\u001b[0m\u001b[1;33m)\u001b[0m\u001b[1;33m\u001b[0m\u001b[1;33m\u001b[0m\u001b[0m\n\u001b[0m",
      "\u001b[1;31mAttributeError\u001b[0m: 'B' object has no attribute 'display'"
     ]
    }
   ],
   "source": [
    "class A:\n",
    "    def first(self):\n",
    "        print(\"first function of A class\")\n",
    "    def second(self):\n",
    "        print(\"second function of A class\")\n",
    "        \n",
    "class B(A):\n",
    "    def first(self):\n",
    "        print(\"first function of B class\")\n",
    "    def second(self):\n",
    "        print(\"second function of B class\")\n",
    "    \n",
    "obj=B()\n",
    "A().first()\n",
    "obj.first()\n",
    "obj.second()\n",
    "obj.display()"
   ]
  },
  {
   "cell_type": "code",
   "execution_count": 4,
   "metadata": {},
   "outputs": [
    {
     "name": "stdout",
     "output_type": "stream",
     "text": [
      "4\n",
      "hihello\n"
     ]
    }
   ],
   "source": [
    "class A:\n",
    "    def __init__(self,a):\n",
    "        self.a=a\n",
    "        \n",
    "    def __add__(self,other):\n",
    "        return self.a+other.a\n",
    "\n",
    "obj1=A(1)\n",
    "obj2=A(3)\n",
    "obj3=A(\"hi\")\n",
    "obj4=A(\"hello\")\n",
    "print(obj1+obj2)\n",
    "print(obj3+obj4)"
   ]
  },
  {
   "cell_type": "code",
   "execution_count": 8,
   "metadata": {},
   "outputs": [
    {
     "name": "stdout",
     "output_type": "stream",
     "text": [
      "3\n"
     ]
    }
   ],
   "source": [
    "class A:\n",
    "    \n",
    "    def __init__(self,a):\n",
    "        self.a=a\n",
    "        \n",
    "    def __add__(self,other):\n",
    "        return self.a+other.a\n",
    "        \n",
    "    def __sub__(self,other):\n",
    "        return self.a-other.a\n",
    "        \n",
    "    def __mul__(self,other):\n",
    "        return self.a*other.a\n",
    "        \n",
    "    def __div__(self,other):\n",
    "        return self.a/other.a\n",
    "        \n",
    "    def __fd__(self,other):\n",
    "        return self.a//other.a\n",
    "        \n",
    "    def __mod__(self,other):\n",
    "        return self.a%other.a\n",
    "\n",
    "    def __pow__(self,other):\n",
    "        return self.a**other.a\n",
    "obj1=A(2)\n",
    "obj2=A(1)\n",
    "print(A.__add__(obj1,obj2))"
   ]
  },
  {
   "cell_type": "code",
   "execution_count": 7,
   "metadata": {},
   "outputs": [
    {
     "name": "stdout",
     "output_type": "stream",
     "text": [
      "False\n"
     ]
    }
   ],
   "source": [
    "class A:\n",
    "    def __init__(self,a):\n",
    "        self.a=a\n",
    "        \n",
    "    def __gt__(self,other):\n",
    "        if self.a>other.a:\n",
    "            return True\n",
    "        else:\n",
    "            return False\n",
    "        \n",
    "    def __lt__(self,other):\n",
    "        if self.a<other.a:\n",
    "            return True\n",
    "        else:\n",
    "            return False\n",
    "        \n",
    "    def __ge__(self,other):\n",
    "        if self.a>=other.a:\n",
    "            return True\n",
    "        else:\n",
    "            return False\n",
    "        \n",
    "    def __le__(self,other):\n",
    "        if self.a<=other.a:\n",
    "            return True\n",
    "        else:\n",
    "            return False\n",
    "        \n",
    "    def __eq__(self,other):\n",
    "        if self.a==other.a:\n",
    "            return True\n",
    "        else:\n",
    "            return False\n",
    "        \n",
    "    def __ne__(self,other):\n",
    "        if self.a!=other.a:\n",
    "            return True\n",
    "        else:\n",
    "            return False\n",
    "        \n",
    "obj1=A(2)\n",
    "obj2=A(4)\n",
    "\n",
    "print(A.__gt__(obj1,obj2))\n",
    "\n"
   ]
  },
  {
   "cell_type": "markdown",
   "metadata": {},
   "source": [
    "# Inheritance"
   ]
  },
  {
   "cell_type": "code",
   "execution_count": 6,
   "metadata": {},
   "outputs": [
    {
     "name": "stdout",
     "output_type": "stream",
     "text": [
      "hello child\n",
      "hello parent\n"
     ]
    }
   ],
   "source": [
    "#single (single pc single cc)\n",
    "class parent:\n",
    "    def func1(self):\n",
    "        print(\"hello parent\")\n",
    "\n",
    "class child(parent):\n",
    "    def func2(self):\n",
    "        print(\"hello child\")\n",
    "        \n",
    "a=child()\n",
    "a.func2()\n",
    "a.func1()"
   ]
  },
  {
   "cell_type": "code",
   "execution_count": 5,
   "metadata": {},
   "outputs": [
    {
     "name": "stdout",
     "output_type": "stream",
     "text": [
      "hello parent1\n",
      "hello parent2\n",
      "hello child\n",
      "(<class '__main__.child'>, <class '__main__.parent1'>, <class '__main__.parent2'>, <class '__main__.parent3'>, <class 'object'>)\n"
     ]
    }
   ],
   "source": [
    "#multiple (multiple pc single cc)\n",
    "class parent1:\n",
    "    def func1(self):\n",
    "        print(\"hello parent1\")\n",
    "        \n",
    "class parent2:\n",
    "    def func2(self):\n",
    "        print(\"hello parent2\")\n",
    "        \n",
    "class parent3:\n",
    "    def func2(self):\n",
    "        print(\"hello parent3\")\n",
    "        \n",
    "class child(parent1,parent2,parent3):\n",
    "    def func3(self):\n",
    "        print(\"hello child\")\n",
    "\n",
    "test=child()\n",
    "test.func1()\n",
    "test.func2()\n",
    "test.func3()\n",
    "print(child.__mro__)"
   ]
  },
  {
   "cell_type": "code",
   "execution_count": 11,
   "metadata": {},
   "outputs": [
    {
     "name": "stdout",
     "output_type": "stream",
     "text": [
      "hello parent1\n",
      "hello parent2\n",
      "hello parent3\n",
      "hello child\n",
      "(<class '__main__.child'>, <class '__main__.parent1'>, <class '__main__.parent2'>, <class '__main__.parent3'>, <class 'object'>)\n"
     ]
    }
   ],
   "source": [
    "#multiple (multiple pc single cc)\n",
    "class parent1:\n",
    "    def func1(self):\n",
    "        print(\"hello parent1\")\n",
    "        \n",
    "class parent2:\n",
    "    def func2(self):\n",
    "        print(\"hello parent2\")\n",
    "        \n",
    "class parent3:\n",
    "    def func3(self):\n",
    "        print(\"hello parent3\")\n",
    "        \n",
    "class child(parent1,parent2,parent3):\n",
    "    def func4(self):\n",
    "        print(\"hello child\")\n",
    "\n",
    "test=child()\n",
    "test.func1()\n",
    "test.func2()\n",
    "test.func3()\n",
    "test.func4()\n",
    "\n",
    "print(child.__mro__)"
   ]
  },
  {
   "cell_type": "code",
   "execution_count": 12,
   "metadata": {},
   "outputs": [
    {
     "name": "stdout",
     "output_type": "stream",
     "text": [
      "hello from grandparent class\n",
      "hello from parent class\n",
      "hello from child class\n",
      "(<class '__main__.child'>, <class '__main__.parent'>, <class '__main__.gparent'>, <class 'object'>)\n"
     ]
    }
   ],
   "source": [
    "#multilevel (gp class to parent class to child class)\n",
    "class gparent:\n",
    "    def func1(self):\n",
    "        print(\"hello from grandparent class\")\n",
    "        \n",
    "class parent(gparent):\n",
    "    def func2(self):\n",
    "        print(\"hello from parent class\")\n",
    "        \n",
    "class child(parent):\n",
    "    def func3(self):\n",
    "        print(\"hello from child class\")\n",
    "        \n",
    "test=child()\n",
    "test.func1()\n",
    "test.func2()\n",
    "test.func3()\n",
    "print(child.__mro__)"
   ]
  },
  {
   "cell_type": "code",
   "execution_count": 18,
   "metadata": {},
   "outputs": [
    {
     "name": "stdout",
     "output_type": "stream",
     "text": [
      "hello from parent class\n",
      "hello from child1 class\n",
      "\n",
      "\n",
      "hello from parent class\n",
      "hello from child2 class\n"
     ]
    }
   ],
   "source": [
    "#hieracrhical (single pc multiple cc)\n",
    "class parent:\n",
    "    def func1(self):\n",
    "        print(\"hello from parent class\")\n",
    "        \n",
    "class child1(parent):\n",
    "    def func2(self):\n",
    "        print(\"hello from child1 class\")\n",
    "        \n",
    "class child2(parent):\n",
    "    def func3(self):\n",
    "        print(\"hello from child2 class\")\n",
    "        \n",
    "test=child1()\n",
    "test.func1()\n",
    "test.func2()\n",
    "print(\"\\n\")\n",
    "test=child2()\n",
    "test.func1()\n",
    "test.func3()"
   ]
  },
  {
   "cell_type": "code",
   "execution_count": 3,
   "metadata": {},
   "outputs": [
    {
     "ename": "AttributeError",
     "evalue": "'child1' object has no attribute 'func1'",
     "output_type": "error",
     "traceback": [
      "\u001b[1;31m---------------------------------------------------------------------------\u001b[0m",
      "\u001b[1;31mAttributeError\u001b[0m                            Traceback (most recent call last)",
      "\u001b[1;32m<ipython-input-3-8eb3c0bb1a80>\u001b[0m in \u001b[0;36m<module>\u001b[1;34m\u001b[0m\n\u001b[0;32m     17\u001b[0m \u001b[0mtest\u001b[0m\u001b[1;33m=\u001b[0m\u001b[0mchild1\u001b[0m\u001b[1;33m(\u001b[0m\u001b[1;33m)\u001b[0m\u001b[1;33m\u001b[0m\u001b[1;33m\u001b[0m\u001b[0m\n\u001b[0;32m     18\u001b[0m \u001b[0mtest1\u001b[0m\u001b[1;33m=\u001b[0m\u001b[0mchild2\u001b[0m\u001b[1;33m(\u001b[0m\u001b[1;33m)\u001b[0m\u001b[1;33m\u001b[0m\u001b[1;33m\u001b[0m\u001b[0m\n\u001b[1;32m---> 19\u001b[1;33m \u001b[0mtest\u001b[0m\u001b[1;33m.\u001b[0m\u001b[0mfunc1\u001b[0m\u001b[1;33m(\u001b[0m\u001b[1;33m)\u001b[0m\u001b[1;33m\u001b[0m\u001b[1;33m\u001b[0m\u001b[0m\n\u001b[0m\u001b[0;32m     20\u001b[0m \u001b[0mtest\u001b[0m\u001b[1;33m.\u001b[0m\u001b[0mfunc3\u001b[0m\u001b[1;33m(\u001b[0m\u001b[1;33m)\u001b[0m\u001b[1;33m\u001b[0m\u001b[1;33m\u001b[0m\u001b[0m\n\u001b[0;32m     21\u001b[0m \u001b[0mtest1\u001b[0m\u001b[1;33m.\u001b[0m\u001b[0mfunc1\u001b[0m\u001b[1;33m(\u001b[0m\u001b[1;33m)\u001b[0m\u001b[1;33m\u001b[0m\u001b[1;33m\u001b[0m\u001b[0m\n",
      "\u001b[1;31mAttributeError\u001b[0m: 'child1' object has no attribute 'func1'"
     ]
    }
   ],
   "source": [
    "class parent:\n",
    "    def func1(self):\n",
    "        print(\"hello from parent1 class\")\n",
    "        \n",
    "class parent2:\n",
    "    def func2(self):\n",
    "        print(\"hello from parent2 class\")\n",
    "        \n",
    "class child1(parent2):\n",
    "    def func3(self):\n",
    "        print(\"hello from child1 class\")\n",
    "class child2(child1):\n",
    "    def func4(self):\n",
    "        print(\"hello from child2 class\")\n",
    "        \n",
    "        \n",
    "test=child1()\n",
    "test1=child2()\n",
    "test.func1()\n",
    "test.func3()\n",
    "test1.func1()\n",
    "test1.func2()\n",
    "test1.func3()\n",
    "test1.func4()"
   ]
  },
  {
   "cell_type": "code",
   "execution_count": null,
   "metadata": {},
   "outputs": [],
   "source": []
  }
 ],
 "metadata": {
  "kernelspec": {
   "display_name": "Python 3",
   "language": "python",
   "name": "python3"
  },
  "language_info": {
   "codemirror_mode": {
    "name": "ipython",
    "version": 3
   },
   "file_extension": ".py",
   "mimetype": "text/x-python",
   "name": "python",
   "nbconvert_exporter": "python",
   "pygments_lexer": "ipython3",
   "version": "3.8.5"
  }
 },
 "nbformat": 4,
 "nbformat_minor": 4
}
