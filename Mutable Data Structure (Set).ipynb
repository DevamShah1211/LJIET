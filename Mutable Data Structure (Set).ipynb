{
 "cells": [
  {
   "cell_type": "code",
   "execution_count": 5,
   "metadata": {},
   "outputs": [
    {
     "name": "stdout",
     "output_type": "stream",
     "text": [
      "{1, 2, 3, 4, 5, 12}\n"
     ]
    }
   ],
   "source": [
    "s=set()\n",
    "l=[1,2,1,1,1,1,12,3,4,5]\n",
    "s=set(l)\n",
    "print(s)"
   ]
  },
  {
   "cell_type": "code",
   "execution_count": 2,
   "metadata": {},
   "outputs": [
    {
     "name": "stdout",
     "output_type": "stream",
     "text": [
      "{0, 1, 2, 3, 4}\n"
     ]
    }
   ],
   "source": [
    "s=set(range(5))\n",
    "print(s)"
   ]
  },
  {
   "cell_type": "code",
   "execution_count": 4,
   "metadata": {},
   "outputs": [
    {
     "name": "stdout",
     "output_type": "stream",
     "text": [
      "{'r', 'a', 'n', 'm'}\n"
     ]
    }
   ],
   "source": [
    "s=set(\"arman\")\n",
    "print(s)"
   ]
  },
  {
   "cell_type": "code",
   "execution_count": 7,
   "metadata": {},
   "outputs": [
    {
     "name": "stdout",
     "output_type": "stream",
     "text": [
      "{40, 10, 50, 20, 60, 30}\n",
      "{40, 10, 50, 20, 60, 30}\n"
     ]
    }
   ],
   "source": [
    "#mathematical operators for set\n",
    "#union()\n",
    "x={10,20,30,40}\n",
    "y={30,40,50,60}\n",
    "print(x.union(y))\n",
    "print(x|y)"
   ]
  },
  {
   "cell_type": "code",
   "execution_count": 9,
   "metadata": {},
   "outputs": [
    {
     "name": "stdout",
     "output_type": "stream",
     "text": [
      "{40, 30}\n",
      "{40, 30}\n"
     ]
    }
   ],
   "source": [
    "#intersection()\n",
    "print(x.intersection(y))\n",
    "print(x&y)"
   ]
  },
  {
   "cell_type": "code",
   "execution_count": 10,
   "metadata": {},
   "outputs": [
    {
     "name": "stdout",
     "output_type": "stream",
     "text": [
      "{10, 20}\n",
      "{10, 20}\n",
      "{50, 60}\n",
      "{50, 60}\n"
     ]
    }
   ],
   "source": [
    "#difference()\n",
    "x={10,20,30,40}\n",
    "y={30,40,50,60}\n",
    "print(x.difference(y))\n",
    "print(x-y)\n",
    "print(y.difference(x))\n",
    "print(y-x)"
   ]
  },
  {
   "cell_type": "code",
   "execution_count": 11,
   "metadata": {},
   "outputs": [
    {
     "name": "stdout",
     "output_type": "stream",
     "text": [
      "{10, 50, 20, 60}\n",
      "{10, 50, 20, 60}\n"
     ]
    }
   ],
   "source": [
    "#symmetric_difference()\n",
    "x={10,20,30,40}\n",
    "y={30,40,50,60}\n",
    "print(x.symmetric_difference(y))\n",
    "print(x^y)"
   ]
  },
  {
   "cell_type": "code",
   "execution_count": 12,
   "metadata": {},
   "outputs": [
    {
     "name": "stdout",
     "output_type": "stream",
     "text": [
      "True\n",
      "False\n"
     ]
    }
   ],
   "source": [
    "#issubset()\n",
    "x={\"a\",\"b\",\"c\"}\n",
    "y={\"f\",\"d\",\"e\",\"c\",\"a\",\"b\"}\n",
    "z=x.issubset(y)\n",
    "print(z)\n",
    "z=y.issubset(x)\n",
    "print(z)"
   ]
  },
  {
   "cell_type": "code",
   "execution_count": 13,
   "metadata": {},
   "outputs": [
    {
     "name": "stdout",
     "output_type": "stream",
     "text": [
      "False\n",
      "True\n"
     ]
    }
   ],
   "source": [
    "#issuperset()\n",
    "x={\"a\",\"b\",\"c\"}\n",
    "y={\"f\",\"d\",\"e\",\"c\",\"a\",\"b\"}\n",
    "z=x.issuperset(y)\n",
    "print(z)\n",
    "z=y.issuperset(x)\n",
    "print(z)"
   ]
  },
  {
   "cell_type": "code",
   "execution_count": 14,
   "metadata": {},
   "outputs": [
    {
     "name": "stdout",
     "output_type": "stream",
     "text": [
      "False\n",
      "False\n",
      "True\n",
      "True\n",
      "True\n"
     ]
    }
   ],
   "source": [
    "#membership operator\n",
    "#in\n",
    "#not in\n",
    "s=set(\"arman\")\n",
    "print(\"d\" in s)\n",
    "print(\"A\" in s)\n",
    "print(\"d\" not in s)\n",
    "print(\"a\" in s)\n",
    "print(\"m\" in s)\n"
   ]
  },
  {
   "cell_type": "code",
   "execution_count": 16,
   "metadata": {},
   "outputs": [
    {
     "name": "stdout",
     "output_type": "stream",
     "text": [
      "{40, 10, 20, 30}\n"
     ]
    }
   ],
   "source": [
    "#important function of set\n",
    "#add(x)\n",
    "s={10,20,30}\n",
    "s.add(40)\n",
    "print(s)"
   ]
  },
  {
   "cell_type": "code",
   "execution_count": 22,
   "metadata": {},
   "outputs": [
    {
     "name": "stdout",
     "output_type": "stream",
     "text": [
      "{70, 40, 10, 50, 20, 60, 30}\n"
     ]
    }
   ],
   "source": [
    "#update(x,y,z)\n",
    "s={10,20,30}\n",
    "l=[40,50,60,70]\n",
    "s.update(l,range(0))\n",
    "print(s)"
   ]
  },
  {
   "cell_type": "code",
   "execution_count": 23,
   "metadata": {},
   "outputs": [
    {
     "name": "stdout",
     "output_type": "stream",
     "text": [
      "{10, 20, 30}\n",
      "{10, 20, 30, 60}\n"
     ]
    }
   ],
   "source": [
    "#copy()\n",
    "s={10,20,30}\n",
    "s1=s.copy()\n",
    "s.add(60)\n",
    "print(s1)\n",
    "print(s)"
   ]
  },
  {
   "cell_type": "code",
   "execution_count": 1,
   "metadata": {},
   "outputs": [
    {
     "name": "stdout",
     "output_type": "stream",
     "text": [
      "40\n",
      "{10, 20, 30}\n"
     ]
    }
   ],
   "source": [
    "#pop()\n",
    "s={10,30,40,20}\n",
    "print(s.pop())\n",
    "print(s)"
   ]
  },
  {
   "cell_type": "code",
   "execution_count": 1,
   "metadata": {},
   "outputs": [
    {
     "name": "stdout",
     "output_type": "stream",
     "text": [
      "{40, 10, 20}\n"
     ]
    },
    {
     "ename": "KeyError",
     "evalue": "50",
     "output_type": "error",
     "traceback": [
      "\u001b[1;31m---------------------------------------------------------------------------\u001b[0m",
      "\u001b[1;31mKeyError\u001b[0m                                  Traceback (most recent call last)",
      "\u001b[1;32m<ipython-input-1-9ad5dadd48a1>\u001b[0m in \u001b[0;36m<module>\u001b[1;34m\u001b[0m\n\u001b[0;32m      3\u001b[0m \u001b[0ms\u001b[0m\u001b[1;33m.\u001b[0m\u001b[0mremove\u001b[0m\u001b[1;33m(\u001b[0m\u001b[1;36m30\u001b[0m\u001b[1;33m)\u001b[0m\u001b[1;33m\u001b[0m\u001b[1;33m\u001b[0m\u001b[0m\n\u001b[0;32m      4\u001b[0m \u001b[0mprint\u001b[0m\u001b[1;33m(\u001b[0m\u001b[0ms\u001b[0m\u001b[1;33m)\u001b[0m\u001b[1;33m\u001b[0m\u001b[1;33m\u001b[0m\u001b[0m\n\u001b[1;32m----> 5\u001b[1;33m \u001b[0ms\u001b[0m\u001b[1;33m.\u001b[0m\u001b[0mremove\u001b[0m\u001b[1;33m(\u001b[0m\u001b[1;36m50\u001b[0m\u001b[1;33m)\u001b[0m\u001b[1;33m\u001b[0m\u001b[1;33m\u001b[0m\u001b[0m\n\u001b[0m\u001b[0;32m      6\u001b[0m \u001b[0mprint\u001b[0m\u001b[1;33m(\u001b[0m\u001b[0ms\u001b[0m\u001b[1;33m)\u001b[0m\u001b[1;33m\u001b[0m\u001b[1;33m\u001b[0m\u001b[0m\n",
      "\u001b[1;31mKeyError\u001b[0m: 50"
     ]
    }
   ],
   "source": [
    "#remove()\n",
    "s={40,10,20,30}\n",
    "s.remove(30)\n",
    "print(s)\n",
    "s.remove(50)\n",
    "print(s)"
   ]
  },
  {
   "cell_type": "code",
   "execution_count": 2,
   "metadata": {},
   "outputs": [
    {
     "name": "stdout",
     "output_type": "stream",
     "text": [
      "{40, 10, 20}\n",
      "{40, 10, 20}\n"
     ]
    }
   ],
   "source": [
    "#discard()\n",
    "s={40,10,20,30}\n",
    "s.discard(30)\n",
    "print(s)\n",
    "s.discard(50)\n",
    "print(s)"
   ]
  },
  {
   "cell_type": "code",
   "execution_count": 3,
   "metadata": {},
   "outputs": [
    {
     "name": "stdout",
     "output_type": "stream",
     "text": [
      "set()\n"
     ]
    }
   ],
   "source": [
    "#clear()\n",
    "s={10,20,30,40}\n",
    "s.clear()\n",
    "print(s)"
   ]
  },
  {
   "cell_type": "code",
   "execution_count": 5,
   "metadata": {},
   "outputs": [
    {
     "name": "stdout",
     "output_type": "stream",
     "text": [
      "{64, 1, 4, 36, 100, 9, 16, 49, 81, 25}\n",
      "{256, 1, 4, 3125, 27}\n"
     ]
    }
   ],
   "source": [
    "#set comprehensions\n",
    "s={x*x for x in range(1,11)}\n",
    "print(s)\n",
    "c={x**x for x in range(1,6)}\n",
    "print(c)"
   ]
  },
  {
   "cell_type": "code",
   "execution_count": 18,
   "metadata": {},
   "outputs": [
    {
     "name": "stdout",
     "output_type": "stream",
     "text": [
      "Original String: CampusX is best for DS students\n",
      "Updated String: CampusX is the best channel for Data-Science students\n"
     ]
    }
   ],
   "source": [
    "#wap to replace the words from dictionary you are given string and replace its words from lookup dictionary\n",
    "s = \"CampusX is best for DS students\"\n",
    "d = {'best': \"the best channel\", 'DS': \"Data-Science\"}\n",
    "print(\"Original String:\",s)\n",
    "for k, v in d.items():\n",
    "    s = s.replace(k, v)\n",
    "print(\"Updated String:\",s)"
   ]
  },
  {
   "cell_type": "code",
   "execution_count": 20,
   "metadata": {},
   "outputs": [
    {
     "name": "stdout",
     "output_type": "stream",
     "text": [
      "CampusX is the best channel for Data-Science students\n"
     ]
    }
   ],
   "source": [
    "#wap to replace the words from dictionary you are given string and replace its words from lookup dictionary\n",
    "s = \"CampusX is best for DS students\"\n",
    "d = {'best': \"the best channel\", 'DS': \"Data-Science\"}\n",
    "words=s.split()\n",
    "l=[]\n",
    "for i in words:\n",
    "    if i in d:\n",
    "        l.append(d[i])\n",
    "    else:\n",
    "        l.append(i)\n",
    "print(\" \".join(l))"
   ]
  },
  {
   "cell_type": "code",
   "execution_count": 21,
   "metadata": {},
   "outputs": [
    {
     "name": "stdout",
     "output_type": "stream",
     "text": [
      "Enter List:[5,5,2,5,8]\n",
      "index to be removed is 0\n",
      "List after Removal of index 0 is [5, 2, 5, 8]\n",
      "index to be removed is 1\n",
      "List after Removal of index 1 is [5, 2, 5, 8]\n",
      "Total Special Element: 2\n"
     ]
    }
   ],
   "source": [
    "#Given a list l of size n you need to count the number of special elements in the given list and element is special\n",
    "#if removal of that element makes the list balanced the list will be balanced if sum of even index elements is equal to \n",
    "#sum of odd index elements also print the updated the updated list after removal of special elements\n",
    "l=eval(input(\"Enter List:\"))\n",
    "count=0\n",
    "for k in range(len(l)):\n",
    "        c=l.copy()\n",
    "        c.pop(k)\n",
    "        sum1=sum2=0\n",
    "        for i in c[::2]:\n",
    "            sum1+=i\n",
    "        for i in c[1::2]:\n",
    "            sum2+=i\n",
    "        if sum1==sum2:\n",
    "            print(\"index to be removed is\",k)\n",
    "            count+=1\n",
    "            print(\"List after Removal of index\",k,\"is\",l[:k]+l[k+1:])\n",
    "print(\"Total Special Element:\",count)"
   ]
  },
  {
   "cell_type": "code",
   "execution_count": 3,
   "metadata": {},
   "outputs": [
    {
     "name": "stdout",
     "output_type": "stream",
     "text": [
      "25\n",
      "25\n",
      "9\n",
      "30\n",
      "19\n"
     ]
    }
   ],
   "source": [
    "#lambda function\n",
    "#nameless function or anonymous function\n",
    "#using normal function:-\n",
    "def squ(n):\n",
    "    return n*n\n",
    "print(squ(5))\n",
    "\n",
    "#using lambda function:-\n",
    "s=lambda x:x*x\n",
    "print(s(5))\n",
    "\n",
    "#normal function\n",
    "def sum(a,b):\n",
    "    return a+b\n",
    "print(sum(4,5))\n",
    "\n",
    "#using lambda function\n",
    "s=lambda a,b:a+b\n",
    "print(s(10,20))\n",
    "c=lambda a,b:a**b\n",
    "print(s(10,9))"
   ]
  },
  {
   "cell_type": "code",
   "execution_count": 4,
   "metadata": {},
   "outputs": [
    {
     "name": "stdout",
     "output_type": "stream",
     "text": [
      "[2, 4, 6, 8, 10]\n",
      "[4, 8, 12, 16, 20]\n"
     ]
    }
   ],
   "source": [
    "#map()\n",
    "#for every element present in the given sequence,apply some functionality and generate new elements with required modification\n",
    "#syntax=map(function,sequence)\n",
    "l=[1,2,3,4,5]\n",
    "def double(x):\n",
    "    return 2*x\n",
    "s1=list(map(double,l))\n",
    "print(s1)\n",
    "s2=list(map(lambda x:2*x,[2,4,6,8,10]))\n",
    "print(s2)"
   ]
  },
  {
   "cell_type": "code",
   "execution_count": 10,
   "metadata": {},
   "outputs": [
    {
     "name": "stdout",
     "output_type": "stream",
     "text": [
      "[4, 6, 8, 10, 12]\n"
     ]
    }
   ],
   "source": [
    "l1=[1,2,3,4,5,6]\n",
    "l2=[3,4,5,6,7]\n",
    "l=list(map(lambda a,b:a+b,l1,l2))\n",
    "print(l)"
   ]
  },
  {
   "cell_type": "code",
   "execution_count": 6,
   "metadata": {},
   "outputs": [
    {
     "name": "stdout",
     "output_type": "stream",
     "text": [
      "[4, 6, 8, 10]\n"
     ]
    }
   ],
   "source": [
    "l1=[1,2,3,4]\n",
    "l2=[3,4,5,6,7]\n",
    "l=list(map(lambda a,b:a+b,l1,l2))\n",
    "print(l)"
   ]
  },
  {
   "cell_type": "code",
   "execution_count": 9,
   "metadata": {},
   "outputs": [
    {
     "name": "stdout",
     "output_type": "stream",
     "text": [
      "150\n",
      "12000000\n"
     ]
    }
   ],
   "source": [
    "#reduce()\n",
    "#syntax:-reduce(function,sequence)\n",
    "#it is part of functools library\n",
    "from functools import *\n",
    "l=[10,20,30,40,50]\n",
    "sum=reduce(lambda x,y:x+y,l)\n",
    "print(sum)\n",
    "mul=reduce(lambda x,y:x*y,l)\n",
    "print(mul)"
   ]
  },
  {
   "cell_type": "code",
   "execution_count": 10,
   "metadata": {},
   "outputs": [
    {
     "name": "stdout",
     "output_type": "stream",
     "text": [
      "[0, 2, 4, 6, 8, 10]\n"
     ]
    }
   ],
   "source": [
    "#filter()\n",
    "#syntax:-filter(function,sequence)\n",
    "def iseven(x):\n",
    "    if x%2==0:\n",
    "        return True\n",
    "    else:\n",
    "        return False\n",
    "l=[0,1,2,3,4,5,6,7,8,9,10]\n",
    "l1=list(filter(iseven,l))\n",
    "print(l1)"
   ]
  },
  {
   "cell_type": "code",
   "execution_count": 3,
   "metadata": {},
   "outputs": [
    {
     "name": "stdout",
     "output_type": "stream",
     "text": [
      "['APPLE', 'BANANA', 'MANGO']\n",
      "['APPLE', 'BANANA', 'MANGO']\n"
     ]
    }
   ],
   "source": [
    "#wap to convert string given in list to uppercase using map function\n",
    "s=[\"apple\",\"banana\",\"mango\"]\n",
    "l=list(map(lambda x:x.upper(),s))\n",
    "print(l)\n",
    "l=list(map(str.upper,s))\n",
    "print(l)"
   ]
  },
  {
   "cell_type": "code",
   "execution_count": 9,
   "metadata": {},
   "outputs": [
    {
     "name": "stdout",
     "output_type": "stream",
     "text": [
      "['banana', 'orange']\n"
     ]
    }
   ],
   "source": [
    "#wap to filter the words with length greater then 5\n",
    "l = [\"apple\", \"banana\", \"orange\", \"mango\"]\n",
    "l1 = list(filter(lambda x: len(x) > 5, l))\n",
    "print(l1)"
   ]
  },
  {
   "cell_type": "code",
   "execution_count": 15,
   "metadata": {},
   "outputs": [
    {
     "name": "stdout",
     "output_type": "stream",
     "text": [
      "[13, 19, 26, 190, 130, 209, 143, 38]\n"
     ]
    }
   ],
   "source": [
    "#wap to find numbers divisible by 19 or 13 from list of number using lambda\n",
    "l=[33,13,19,26,190,130,209,143,38]\n",
    "l1=list(filter(lambda x:x%19==0 or x%13==0,l))\n",
    "print(l1)"
   ]
  },
  {
   "cell_type": "code",
   "execution_count": 21,
   "metadata": {},
   "outputs": [
    {
     "name": "stdout",
     "output_type": "stream",
     "text": [
      "['apple', 'pineapple', 'orange', 'kiwi', 'cherry']\n",
      "['kiwi', 'apple', 'cherry', 'orange', 'pineapple']\n",
      "['apple', 'pineapple', 'orange', 'kiwi', 'cherry']\n"
     ]
    }
   ],
   "source": [
    "#sorted()\n",
    "a=[\"apple\",\"kiwi\",\"cherry\",\"pineapple\",\"orange\"]\n",
    "def far(word):\n",
    "    return word[-1]\n",
    "l=sorted(a,key=far)\n",
    "print(l)\n",
    "l=sorted(a,key=len)\n",
    "print(l)\n",
    "l=sorted(a,key=lambda x:x[-1])\n",
    "print(l)"
   ]
  },
  {
   "cell_type": "code",
   "execution_count": 24,
   "metadata": {},
   "outputs": [
    {
     "name": "stdout",
     "output_type": "stream",
     "text": [
      "['kiwi', 'apple', 'cherry', 'orange', 'pineapple']\n"
     ]
    }
   ],
   "source": [
    "#sort()\n",
    "a=[\"apple\",\"kiwi\",\"cherry\",\"pineapple\",\"orange\"]\n",
    "a.sort(key=len)\n",
    "print(a)"
   ]
  },
  {
   "cell_type": "code",
   "execution_count": 26,
   "metadata": {},
   "outputs": [
    {
     "name": "stdout",
     "output_type": "stream",
     "text": [
      "[(3, 1), (1, 3), (7, 8)]\n"
     ]
    }
   ],
   "source": [
    "a=[(1,3),(7,8),(3,1)]\n",
    "def fan(val):\n",
    "    return val[1]\n",
    "a.sort(key=fan)\n",
    "print(a)"
   ]
  },
  {
   "cell_type": "code",
   "execution_count": 28,
   "metadata": {},
   "outputs": [
    {
     "name": "stdout",
     "output_type": "stream",
     "text": [
      "['apple', 'banana#orange#cherry']\n",
      "['apple', 'banana', 'orange#cherry']\n",
      "['apple', 'banana', 'orange', 'cherry']\n"
     ]
    }
   ],
   "source": [
    "t=\"apple#banana#orange#cherry\"\n",
    "x=t.split(\"#\",1)\n",
    "print(x)\n",
    "x=t.split(\"#\",2)\n",
    "print(x)\n",
    "x=t.split(\"#\",3)\n",
    "print(x)"
   ]
  },
  {
   "cell_type": "code",
   "execution_count": 31,
   "metadata": {},
   "outputs": [
    {
     "name": "stdout",
     "output_type": "stream",
     "text": [
      "y\n",
      "9996\n"
     ]
    }
   ],
   "source": [
    "l=[\"Aryan\",\"Arman\",\"Dhairya\",\"Lucky\"]\n",
    "print(l[-1][-1])\n",
    "main=lambda x,y:x if x<y else y\n",
    "print(min(101*99,102*98))"
   ]
  },
  {
   "cell_type": "code",
   "execution_count": 32,
   "metadata": {},
   "outputs": [
    {
     "name": "stdout",
     "output_type": "stream",
     "text": [
      "{9}\n"
     ]
    }
   ],
   "source": [
    "x={1,2,3,4,5,6}\n",
    "y={3,4,5,6,7}\n",
    "z={1,3,5,7,9}\n",
    "print((x|y) ^ (x|z))"
   ]
  },
  {
   "cell_type": "code",
   "execution_count": 37,
   "metadata": {},
   "outputs": [
    {
     "name": "stdout",
     "output_type": "stream",
     "text": [
      "7\n"
     ]
    }
   ],
   "source": [
    "t=(1,2,3,4,5,6,7)\n",
    "print(t[t[1]+t[-4]])"
   ]
  },
  {
   "cell_type": "code",
   "execution_count": 16,
   "metadata": {},
   "outputs": [
    {
     "name": "stdout",
     "output_type": "stream",
     "text": [
      "How Many Pizza You Want To Order:2\n",
      "Customize Pizza 2\n",
      "Select Size for pizza :- Small=50, Medium=100, Large=200:Small\n",
      "Select Toppings->How many Toppings:- T1:corn,tomato,onion,capsicum = 20RS Each T2:Mushroom,Olives,Brocolli = 50RS Each:corn\n",
      "Select Cheese->How many type of cheese you want:- C1: Feta = 60RS  C2:Mozarella = 60RSFeta\n",
      "your Total Bill : 130\n"
     ]
    }
   ],
   "source": [
    "T1=[\"corn\",\"tomato\",\"onion\",\"capsicum\"]\n",
    "T2=[\"Mushroom\",\"Olives\",\"Broxolli\"]\n",
    "srs=0\n",
    "RS=0\n",
    "trs=0\n",
    "crs=0\n",
    "pizza=input(\"How Many Pizza You Want To Order:\")\n",
    "print(\"Customize Pizza\",pizza)\n",
    "size=input(\"Select Size for pizza :- Small=50, Medium=100, Large=200:\")\n",
    "topping=input(\"Select Toppings->How many Toppings:- T1:corn,tomato,onion,capsicum = 20RS Each T2:Mushroom,Olives,Brocolli = 50RS Each:\")\n",
    "cheese=input(\"Select Cheese->How many type of cheese you want:- C1: Feta = 60RS  C2:Mozarella = 60RS\")\n",
    "for i in pizza:\n",
    "    if size==\"Small\":\n",
    "        srs+=50\n",
    "    elif size==\"Medium\":\n",
    "        srs+=100\n",
    "    elif size==\"Large\":\n",
    "        srs+=200\n",
    "    else:\n",
    "        print(\"Enter Valid Choice\")\n",
    "    if topping in T1:\n",
    "        trs+=20\n",
    "    elif topping in T2:\n",
    "        trs+=50\n",
    "    else:\n",
    "        print(\"Enter Valid Choice\")\n",
    "    if cheese==\"Feta\":\n",
    "        crs+=60\n",
    "    elif cheese==\"Mozarella\":\n",
    "        crs+=60\n",
    "    else:\n",
    "        print(\"Enter Valid Choice\")\n",
    "RS=trs+crs+srs\n",
    "print(\"your Total Bill :\",RS)"
   ]
  },
  {
   "cell_type": "code",
   "execution_count": 17,
   "metadata": {},
   "outputs": [
    {
     "name": "stdout",
     "output_type": "stream",
     "text": [
      "Welcome to the Pizza Customization Program!\n",
      "=============================================\n",
      "Available Sizes:\n",
      "1. Small = 50 RS\n",
      "2. Medium = 100 RS\n",
      "3. Large = 200 RS\n",
      "\n",
      "Available Toppings:\n",
      "T1: corn, tomato, onion, capsicum = 20 RS each\n",
      "T2: Mushroom, Olives, Broccoli = 50 RS each\n",
      "\n",
      "Available Cheese:\n",
      "C1: Feta = 60 RS\n",
      "C2: Mozarella = 60 RS\n",
      "=============================================\n",
      "How Many Pizzas You Want To Order: 3\n",
      "Customizing 3 Pizza(s)\n",
      "Select Size for pizza (Small/Medium/Large): Small\n",
      "How many toppings do you want (max 3)? 2\n",
      "Select Topping 1 (corn/tomato/onion/capsicum/Mushroom/Olives/Broccoli): corn\n",
      "Select Topping 2 (corn/tomato/onion/capsicum/Mushroom/Olives/Broccoli): Olives\n",
      "Select Cheese (Feta/Mozarella): Mozarella\n",
      "=============================================\n",
      "Your Order Summary:\n",
      "Number of Pizzas: 3\n",
      "Size: Small\n",
      "Toppings Selected: corn, Olives\n",
      "Cheese Selected: Mozarella\n",
      "Total Bill: 180 RS\n",
      "Thank you for your order!\n"
     ]
    }
   ],
   "source": [
    "\n",
    "T1 = [\"corn\", \"tomato\", \"onion\", \"capsicum\"]\n",
    "T2 = [\"Mushroom\", \"Olives\", \"Broccoli\"]\n",
    "\n",
    "\n",
    "srs = 0\n",
    "RS = 0\n",
    "trs = 0\n",
    "crs = 0\n",
    "\n",
    "\n",
    "print(\"Welcome to the Pizza Customization Program!\")\n",
    "print(\"=============================================\")\n",
    "print(\"Available Sizes:\")\n",
    "print(\"1. Small = 50 RS\")\n",
    "print(\"2. Medium = 100 RS\")\n",
    "print(\"3. Large = 200 RS\")\n",
    "print()\n",
    "print(\"Available Toppings:\")\n",
    "print(\"T1: corn, tomato, onion, capsicum = 20 RS each\")\n",
    "print(\"T2: Mushroom, Olives, Broccoli = 50 RS each\")\n",
    "print()\n",
    "print(\"Available Cheese:\")\n",
    "print(\"C1: Feta = 60 RS\")\n",
    "print(\"C2: Mozarella = 60 RS\")\n",
    "print(\"=============================================\")\n",
    "\n",
    "\n",
    "pizza = int(input(\"How Many Pizzas You Want To Order: \"))\n",
    "print(f\"Customizing {pizza} Pizza(s)\")\n",
    "\n",
    "\n",
    "size = input(\"Select Size for pizza (Small/Medium/Large): \").strip().capitalize()\n",
    "\n",
    "\n",
    "topping_count = int(input(\"How many toppings do you want (max 3)? \"))\n",
    "toppings_selected = []\n",
    "\n",
    "for i in range(topping_count):\n",
    "    topping = input(f\"Select Topping {i + 1} (corn/tomato/onion/capsicum/Mushroom/Olives/Broccoli): \").strip()\n",
    "    if topping in T1:\n",
    "        trs += 20\n",
    "        toppings_selected.append(topping)\n",
    "    elif topping in T2:\n",
    "        trs += 50\n",
    "        toppings_selected.append(topping)\n",
    "    else:\n",
    "        print(\"Invalid topping selected. Please choose from the available options.\")\n",
    "\n",
    "\n",
    "cheese = input(\"Select Cheese (Feta/Mozarella): \").strip().capitalize()\n",
    "if cheese == \"Feta\" or cheese == \"Mozarella\":\n",
    "    crs += 60\n",
    "else:\n",
    "    print(\"Invalid cheese selected. Please choose from the available options.\")\n",
    "\n",
    "if size == \"Small\":\n",
    "    srs += 50\n",
    "elif size == \"Medium\":\n",
    "    srs += 100\n",
    "elif size == \"Large\":\n",
    "    srs += 200\n",
    "else:\n",
    "    print(\"Invalid size selected. Please choose from Small, Medium, or Large.\")\n",
    "RS = trs + crs + srs\n",
    "print(\"=============================================\")\n",
    "print(\"Your Order Summary:\")\n",
    "print(f\"Number of Pizzas: {pizza}\")\n",
    "print(f\"Size: {size}\")\n",
    "print(f\"Toppings Selected: {', '.join(toppings_selected)}\")\n",
    "print(f\"Cheese Selected: {cheese}\")\n",
    "print(f\"Total Bill: {RS} RS\")\n",
    "print(\"Thank you for your order!\")"
   ]
  },
  {
   "cell_type": "code",
   "execution_count": 19,
   "metadata": {},
   "outputs": [
    {
     "name": "stdout",
     "output_type": "stream",
     "text": [
      "Welcome to the Pizza Customization Program!\n",
      "=============================================\n",
      "How many pizzas do you want to order? 2\n",
      "\n",
      "Customizing Pizza 1:\n",
      "Select Size (Small/Medium/Large): Small\n",
      "How many toppings do you want (max 3)? 2\n",
      "Select Topping 1 (corn/tomato/onion/capsicum/Mushroom/Olives/Broccoli): corn\n",
      "Select Topping 2 (corn/tomato/onion/capsicum/Mushroom/Olives/Broccoli): Olives\n",
      "Select Cheese (Feta/Mozarella): Mozarella\n",
      "=============================================\n",
      "Cost for Pizza 1: 180 RS\n",
      "\n",
      "Customizing Pizza 2:\n",
      "Select Size (Small/Medium/Large): Small\n",
      "How many toppings do you want (max 3)? 2\n",
      "Select Topping 1 (corn/tomato/onion/capsicum/Mushroom/Olives/Broccoli): corn\n",
      "Select Topping 2 (corn/tomato/onion/capsicum/Mushroom/Olives/Broccoli): Broccoli\n",
      "Select Cheese (Feta/Mozarella): Mozarella\n",
      "=============================================\n",
      "Cost for Pizza 2: 180 RS\n",
      "=============================================\n",
      "Total Bill for all Pizzas: 360 RS\n",
      "Thank you for your order!\n"
     ]
    }
   ],
   "source": [
    "T1 = [\"corn\", \"tomato\", \"onion\", \"capsicum\"]\n",
    "T2 = [\"Mushroom\", \"Olives\", \"Broccoli\"]\n",
    "size_cost = {\"Small\": 50, \"Medium\": 100, \"Large\": 200}\n",
    "topping_cost = {**dict.fromkeys(T1, 20), **dict.fromkeys(T2, 50)}\n",
    "cheese_cost = {\"Feta\": 60, \"Mozarella\": 60}\n",
    "\n",
    "print(\"Welcome to the Pizza Customization Program!\")\n",
    "print(\"=============================================\")\n",
    "\n",
    "# Ask for the number of pizzas to order\n",
    "num_pizzas = int(input(\"How many pizzas do you want to order? \"))\n",
    "\n",
    "total_bill = 0\n",
    "\n",
    "for p in range(num_pizzas):\n",
    "    print(f\"\\nCustomizing Pizza {p + 1}:\")\n",
    "    \n",
    "    size = input(\"Select Size (Small/Medium/Large): \").strip().capitalize()\n",
    "    if size not in size_cost:\n",
    "        print(\"Invalid size. Please try again.\")\n",
    "        continue\n",
    "\n",
    "    toppings_selected = []\n",
    "    topping_count = int(input(\"How many toppings do you want (max 3)? \"))\n",
    "    for i in range(min(topping_count, 3)):\n",
    "        topping = input(f\"Select Topping {i + 1} (corn/tomato/onion/capsicum/Mushroom/Olives/Broccoli): \").strip()\n",
    "        if topping in topping_cost:\n",
    "            toppings_selected.append(topping)\n",
    "        else:\n",
    "            print(\"Invalid topping. Please try again.\")\n",
    "\n",
    "    cheese = input(\"Select Cheese (Feta/Mozarella): \").strip().capitalize()\n",
    "    if cheese not in cheese_cost:\n",
    "        print(\"Invalid cheese. Please try again.\")\n",
    "        continue\n",
    "\n",
    "    # Calculate costs\n",
    "    pizza_cost = size_cost[size] + sum(topping_cost[topping] for topping in toppings_selected) + cheese_cost[cheese]\n",
    "    total_bill += pizza_cost\n",
    "\n",
    "    print(\"=============================================\")\n",
    "    print(f\"Cost for Pizza {p + 1}: {pizza_cost} RS\")\n",
    "\n",
    "print(\"=============================================\")\n",
    "print(f\"Total Bill for all Pizzas: {total_bill} RS\")\n",
    "print(\"Thank you for your order!\")"
   ]
  },
  {
   "cell_type": "code",
   "execution_count": null,
   "metadata": {},
   "outputs": [],
   "source": []
  }
 ],
 "metadata": {
  "kernelspec": {
   "display_name": "Python 3",
   "language": "python",
   "name": "python3"
  },
  "language_info": {
   "codemirror_mode": {
    "name": "ipython",
    "version": 3
   },
   "file_extension": ".py",
   "mimetype": "text/x-python",
   "name": "python",
   "nbconvert_exporter": "python",
   "pygments_lexer": "ipython3",
   "version": "3.8.5"
  }
 },
 "nbformat": 4,
 "nbformat_minor": 4
}
